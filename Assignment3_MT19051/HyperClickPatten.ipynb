{
 "cells": [
  {
   "cell_type": "code",
   "execution_count": 1,
   "metadata": {},
   "outputs": [],
   "source": [
    "import numpy as np\n",
    "import pandas as pd\n",
    "import copy as cp\n",
    "from tqdm import tqdm_notebook\n",
    "import time \n",
    "import matplotlib.pyplot as pt"
   ]
  },
  {
   "cell_type": "code",
   "execution_count": 23,
   "metadata": {},
   "outputs": [],
   "source": [
    "#Dummy Data to try running code\n",
    "# Data = [[1],[2],[3,4],[1,2],[1,2],[1,2],[1,2,3,4,5],[1],[2],[3,5]]\n",
    "# setData = list(map(set, Data))\n",
    "# dataSize = len(setData)\n",
    "# ItemSet1 = list(map(frozenset,[[1],[2],[3],[4],[5]]))"
   ]
  },
  {
   "cell_type": "code",
   "execution_count": 2,
   "metadata": {},
   "outputs": [],
   "source": [
    "def readFile(fileName):\n",
    "    data = pd.read_csv(fileName,sep = ' ',header=None).iloc[:,:-1]\n",
    "    colNo = np.max(data.count(axis = 1))\n",
    "    dataSize = len(data)\n",
    "    return data,colNo,dataSize"
   ]
  },
  {
   "cell_type": "code",
   "execution_count": 3,
   "metadata": {},
   "outputs": [],
   "source": [
    "def find1ItemSet(data):\n",
    "    actualItemList = np.unique(data)\n",
    "    listofItem = [[i] for i in actualItemList]\n",
    "    return list(map(frozenset,listofItem))"
   ]
  },
  {
   "cell_type": "code",
   "execution_count": 4,
   "metadata": {},
   "outputs": [],
   "source": [
    "def calSupportAndPrune(setData,ItemSet,minSupportCount,dataSize):\n",
    "    ItemSetDic = {}\n",
    "    for transaction in tqdm_notebook(setData):\n",
    "        for Item in ItemSet:\n",
    "            if(Item.issubset(transaction)):\n",
    "                if Item not in ItemSetDic : \n",
    "                    ItemSetDic[Item] = 1\n",
    "                else:\n",
    "                    ItemSetDic[Item] += 1 \n",
    "    ItemSetAndSupport = {}\n",
    "    for ItemKey in ItemSetDic:\n",
    "        support = ItemSetDic[ItemKey]/dataSize\n",
    "        if(support >= minSupportCount):\n",
    "            ItemSetAndSupport[ItemKey] = support    \n",
    "    ItemSetAndSupport = dict(sorted(ItemSetAndSupport.items(),key = lambda x: x[1],reverse = True))\n",
    "    FItemSet = list(ItemSetAndSupport.keys())\n",
    "    return FItemSet,ItemSetAndSupport"
   ]
  },
  {
   "cell_type": "code",
   "execution_count": 5,
   "metadata": {},
   "outputs": [],
   "source": [
    "def calHconfAndprune(ItemSet,supportDataOf1,supportData_k,hc):\n",
    "    itemSetWithLessHconf = []\n",
    "    for i in ItemSet:\n",
    "        #cal the element with maximumHconf\n",
    "        itemList = [frozenset([j]) for j in list(i)]\n",
    "        maxSingleHconf = max([supportDataOf1[k] for k in itemList])\n",
    "        ItemSetHconf = supportData_k[i]/maxSingleHconf\n",
    "        if(ItemSetHconf < hc):\n",
    "            itemSetWithLessHconf.append(i)\n",
    "    fItemSet = [i for i in ItemSet if i not in itemSetWithLessHconf]\n",
    "    return fItemSet "
   ]
  },
  {
   "cell_type": "code",
   "execution_count": 6,
   "metadata": {},
   "outputs": [],
   "source": [
    "def candidateGeneration(ItemSetk_1,SupportItemSet1,hc):\n",
    "    ItemSetK = []\n",
    "    for i in range(len(ItemSetk_1)):\n",
    "        y = ItemSetk_1[i]\n",
    "        for j in range(i+1,len(ItemSetk_1)):\n",
    "            x = ItemSetk_1[j]\n",
    "            #if(SupportItemSet1[x] < SupportItemSet1[y] * hc):\n",
    "            #    break;\n",
    "            L1 = list(y);\n",
    "            L2 = list(x);\n",
    "            if L1[:-1] == L2[:-1]:\n",
    "                ItemSetK.append(x | y)\n",
    "    return ItemSetK;"
   ]
  },
  {
   "cell_type": "code",
   "execution_count": 7,
   "metadata": {},
   "outputs": [],
   "source": [
    "def candidateGenerationCrossSupport(ItemSetk_1,SupportItemSet1,hc):\n",
    "    ItemSetK = []\n",
    "    for i in range(len(ItemSetk_1)):\n",
    "        y = ItemSetk_1[i]\n",
    "        for j in range(i+1,len(ItemSetk_1)):\n",
    "            x = ItemSetk_1[j]\n",
    "            if(SupportItemSet1[x] < SupportItemSet1[y] * hc):\n",
    "                break;\n",
    "            L1 = list(y);\n",
    "            L2 = list(x);\n",
    "            if L1[:-1] == L2[:-1]:\n",
    "                ItemSetK.append(x | y)\n",
    "    return ItemSetK;"
   ]
  },
  {
   "cell_type": "code",
   "execution_count": 8,
   "metadata": {},
   "outputs": [
    {
     "name": "stdout",
     "output_type": "stream",
     "text": [
      "Length of 1 itemSet 2113\n",
      "2.9688029289245605\n"
     ]
    }
   ],
   "source": [
    "t1= time.time()\n",
    "fileName = 'pumsb.dat'\n",
    "data,colNo,dataSize = readFile(fileName)\n",
    "setData = list(map(set, data.to_numpy()))\n",
    "ItemSet1 = find1ItemSet(data)\n",
    "print(\"Length of 1 itemSet\",len(ItemSet1))\n",
    "print(time.time() - t1)"
   ]
  },
  {
   "cell_type": "code",
   "execution_count": 9,
   "metadata": {},
   "outputs": [],
   "source": [
    "samplesize = [.2,.4,.6,.8,1]\n",
    "dictTime = {}"
   ]
  },
  {
   "cell_type": "code",
   "execution_count": 10,
   "metadata": {
    "scrolled": false
   },
   "outputs": [
    {
     "data": {
      "application/vnd.jupyter.widget-view+json": {
       "model_id": "06545ab57eb24220a6f83e52e3fa2eab",
       "version_major": 2,
       "version_minor": 0
      },
      "text/plain": [
       "HBox(children=(IntProgress(value=0, max=49046), HTML(value='')))"
      ]
     },
     "metadata": {},
     "output_type": "display_data"
    },
    {
     "name": "stdout",
     "output_type": "stream",
     "text": [
      "\n",
      "52\n",
      "1 ItemSet are:\n",
      " [frozenset({4438}), frozenset({7062}), frozenset({170}), frozenset({180}), frozenset({184}), frozenset({4428}), frozenset({4434}), frozenset({4426}), frozenset({4432}), frozenset({4940}), frozenset({7092}), frozenset({4436}), frozenset({188}), frozenset({4430}), frozenset({7112}), frozenset({7102}), frozenset({260}), frozenset({265}), frozenset({3404}), frozenset({4404}), frozenset({17}), frozenset({7082}), frozenset({4414}), frozenset({4440}), frozenset({3403}), frozenset({7072}), frozenset({161}), frozenset({197}), frozenset({4502}), frozenset({84}), frozenset({4499}), frozenset({168}), frozenset({4933}), frozenset({4937}), frozenset({4496}), frozenset({277}), frozenset({4493}), frozenset({4503}), frozenset({4798}), frozenset({4413}), frozenset({2297}), frozenset({7057}), frozenset({4807}), frozenset({4833}), frozenset({6867}), frozenset({4527}), frozenset({4627}), frozenset({4727}), frozenset({4785}), frozenset({2301}), frozenset({2401}), frozenset({15})]\n"
     ]
    },
    {
     "data": {
      "application/vnd.jupyter.widget-view+json": {
       "model_id": "59260016a5004654887267bcd543058b",
       "version_major": 2,
       "version_minor": 0
      },
      "text/plain": [
       "HBox(children=(IntProgress(value=0, max=50), HTML(value='')))"
      ]
     },
     "metadata": {},
     "output_type": "display_data"
    },
    {
     "data": {
      "application/vnd.jupyter.widget-view+json": {
       "model_id": "2327015564e44e6396f7f59baa5ca32f",
       "version_major": 2,
       "version_minor": 0
      },
      "text/plain": [
       "HBox(children=(IntProgress(value=0, max=49046), HTML(value='')))"
      ]
     },
     "metadata": {},
     "output_type": "display_data"
    },
    {
     "name": "stdout",
     "output_type": "stream",
     "text": [
      "Length of  2  ItemSet is:\n",
      " 117\n",
      "Itemset set of 2 Lenght\n",
      " [frozenset({4438, 7062}), frozenset({170, 4438}), frozenset({184, 180}), frozenset({180, 4438}), frozenset({184, 4438}), frozenset({170, 7062}), frozenset({4428, 4438}), frozenset({170, 180}), frozenset({184, 170}), frozenset({180, 7062}), frozenset({184, 7062}), frozenset({4428, 7062}), frozenset({4434, 4438}), frozenset({170, 4428}), frozenset({4426, 4438}), frozenset({4432, 4438}), frozenset({4940, 4438}), frozenset({4434, 7062}), frozenset({7092, 4438}), frozenset({180, 4428}), frozenset({184, 4428}), frozenset({170, 4434}), frozenset({4432, 7062}), frozenset({4426, 7062}), frozenset({4426, 4428}), frozenset({170, 4426}), frozenset({4432, 170}), frozenset({4940, 7062}), frozenset({170, 4940}), frozenset({7092, 7062}), frozenset({4434, 180}), frozenset({184, 4434}), frozenset({170, 7092}), frozenset({4434, 4428}), frozenset({4432, 4428}), frozenset({4426, 180}), frozenset({184, 4426}), frozenset({4436, 4438}), frozenset({4432, 180}), frozenset({4432, 184}), frozenset({180, 4940}), frozenset({184, 4940}), frozenset({4432, 4434}), frozenset({188, 4438}), frozenset({4940, 4428}), frozenset({180, 7092}), frozenset({184, 7092}), frozenset({7092, 4428}), frozenset({4436, 7062}), frozenset({4426, 4434}), frozenset({170, 4436}), frozenset({188, 7062}), frozenset({170, 188}), frozenset({4432, 4426}), frozenset({4434, 4940}), frozenset({4426, 4940}), frozenset({4432, 4940}), frozenset({4434, 7092}), frozenset({4426, 7092}), frozenset({180, 4436}), frozenset({184, 4436}), frozenset({4432, 7092}), frozenset({180, 188}), frozenset({184, 188}), frozenset({7092, 4940}), frozenset({7062, 4430}), frozenset({4436, 4428}), frozenset({4434, 4436}), frozenset({4428, 4430}), frozenset({188, 4428}), frozenset({4432, 4436}), frozenset({4434, 188}), frozenset({4426, 4436}), frozenset({4426, 188}), frozenset({4432, 4430}), frozenset({4432, 188}), frozenset({188, 4940}), frozenset({4436, 4940}), frozenset({4434, 4430}), frozenset({7092, 4436}), frozenset({4426, 4430}), frozenset({7092, 188}), frozenset({7112, 4434}), frozenset({7112, 4940}), frozenset({4940, 4430}), frozenset({265, 260}), frozenset({4404, 3404}), frozenset({188, 4436}), frozenset({7112, 4436}), frozenset({7112, 4430}), frozenset({3404, 260}), frozenset({4404, 260}), frozenset({265, 3404}), frozenset({265, 4404}), frozenset({4440, 4414}), frozenset({161, 84}), frozenset({168, 161}), frozenset({168, 84}), frozenset({4499, 4502}), frozenset({4937, 4933}), frozenset({84, 4502}), frozenset({4833, 4807}), frozenset({4807, 4527}), frozenset({4785, 4807}), frozenset({4833, 4527}), frozenset({4785, 4833}), frozenset({4785, 4527}), frozenset({4627, 4727}), frozenset({4627, 4807}), frozenset({4807, 4727}), frozenset({4833, 4627}), frozenset({4833, 4727}), frozenset({4627, 4527}), frozenset({4527, 4727}), frozenset({4785, 4627}), frozenset({4785, 4727}), frozenset({2401, 2301})]\n"
     ]
    },
    {
     "data": {
      "application/vnd.jupyter.widget-view+json": {
       "model_id": "33846f56291f4ccd9d10e10014ae5eef",
       "version_major": 2,
       "version_minor": 0
      },
      "text/plain": [
       "HBox(children=(IntProgress(value=0, max=49046), HTML(value='')))"
      ]
     },
     "metadata": {},
     "output_type": "display_data"
    },
    {
     "name": "stdout",
     "output_type": "stream",
     "text": [
      "Length of  3  ItemSet is:\n",
      " 140\n",
      "Itemset set of 3 Lenght\n",
      " [frozenset({184, 180, 4438}), frozenset({4438, 170, 7062}), frozenset({184, 170, 180}), frozenset({184, 180, 7062}), frozenset({170, 180, 4438}), frozenset({184, 170, 4438}), frozenset({4438, 180, 7062}), frozenset({184, 4438, 7062}), frozenset({4438, 4428, 7062}), frozenset({170, 4428, 4438}), frozenset({170, 180, 7062}), frozenset({184, 170, 7062}), frozenset({184, 180, 4428}), frozenset({4438, 4434, 7062}), frozenset({170, 4428, 7062}), frozenset({170, 4434, 4438}), frozenset({180, 4428, 4438}), frozenset({184, 4428, 4438}), frozenset({4432, 4438, 7062}), frozenset({4438, 4426, 7062}), frozenset({4426, 4428, 4438}), frozenset({170, 4426, 4438}), frozenset({4432, 170, 4438}), frozenset({4438, 4940, 7062}), frozenset({170, 4940, 4438}), frozenset({184, 4434, 180}), frozenset({170, 180, 4428}), frozenset({184, 170, 4428}), frozenset({4438, 7092, 7062}), frozenset({170, 4434, 7062}), frozenset({180, 4428, 7062}), frozenset({184, 4428, 7062}), frozenset({184, 4426, 180}), frozenset({184, 4434, 4438}), frozenset({4434, 180, 4438}), frozenset({4432, 180, 184}), frozenset({170, 7092, 4438}), frozenset({4434, 4428, 4438}), frozenset({4432, 4428, 4438}), frozenset({4426, 4428, 7062}), frozenset({4432, 170, 7062}), frozenset({170, 4426, 7062}), frozenset({184, 4426, 4438}), frozenset({4426, 180, 4438}), frozenset({184, 180, 4940}), frozenset({4432, 180, 4438}), frozenset({4432, 4438, 184}), frozenset({170, 4426, 4428}), frozenset({4432, 4434, 4438}), frozenset({184, 180, 7092}), frozenset({180, 4940, 4438}), frozenset({184, 4940, 4438}), frozenset({170, 4940, 7062}), frozenset({170, 4434, 180}), frozenset({184, 170, 4434}), frozenset({4940, 4438, 4428}), frozenset({180, 7092, 4438}), frozenset({184, 7092, 4438}), frozenset({184, 4434, 7062}), frozenset({4434, 180, 7062}), frozenset({170, 7092, 7062}), frozenset({170, 4426, 180}), frozenset({184, 170, 4426}), frozenset({4434, 4428, 7062}), frozenset({4432, 4428, 7062}), frozenset({4432, 170, 180}), frozenset({4432, 170, 184}), frozenset({7092, 4438, 4428}), frozenset({4438, 4436, 7062}), frozenset({4432, 180, 7062}), frozenset({4432, 7062, 184}), frozenset({184, 4426, 7062}), frozenset({4426, 180, 7062}), frozenset({170, 4434, 4428}), frozenset({170, 180, 4940}), frozenset({184, 170, 4940}), frozenset({184, 4426, 4428}), frozenset({4426, 180, 4428}), frozenset({4432, 170, 4428}), frozenset({4426, 4434, 4438}), frozenset({4432, 4434, 7062}), frozenset({170, 4436, 4438}), frozenset({180, 4940, 7062}), frozenset({184, 4940, 7062}), frozenset({170, 180, 7092}), frozenset({184, 170, 7092}), frozenset({4432, 170, 4434}), frozenset({4940, 7062, 4428}), frozenset({180, 7092, 7062}), frozenset({184, 7092, 7062}), frozenset({170, 4940, 4428}), frozenset({7092, 7062, 4428}), frozenset({184, 180, 4436}), frozenset({184, 4434, 4428}), frozenset({4434, 180, 4428}), frozenset({184, 180, 188}), frozenset({170, 7092, 4428}), frozenset({4432, 180, 4428}), frozenset({4432, 4428, 184}), frozenset({170, 4436, 7062}), frozenset({4426, 4434, 7062}), frozenset({4426, 4428, 4434}), frozenset({4432, 4426, 4428}), frozenset({4432, 4434, 4428}), frozenset({170, 4426, 4434}), frozenset({4432, 4434, 180}), frozenset({4432, 4434, 184}), frozenset({180, 4940, 4428}), frozenset({184, 4940, 4428}), frozenset({4426, 4940, 4428}), frozenset({180, 7092, 4428}), frozenset({184, 7092, 4428}), frozenset({4426, 7092, 4428}), frozenset({4432, 4426, 4434}), frozenset({4432, 4434, 4940}), frozenset({265, 3404, 260}), frozenset({265, 4404, 260}), frozenset({4404, 260, 3404}), frozenset({265, 4404, 3404}), frozenset({168, 161, 84}), frozenset({4833, 4807, 4527}), frozenset({4785, 4833, 4807}), frozenset({4785, 4807, 4527}), frozenset({4785, 4833, 4527}), frozenset({4833, 4627, 4807}), frozenset({4833, 4807, 4727}), frozenset({4727, 4627, 4807}), frozenset({4833, 4627, 4727}), frozenset({4527, 4807, 4727}), frozenset({4785, 4627, 4807}), frozenset({4785, 4807, 4727}), frozenset({4833, 4627, 4527}), frozenset({4833, 4527, 4727}), frozenset({4785, 4627, 4833}), frozenset({4785, 4833, 4727}), frozenset({4785, 4627, 4527}), frozenset({4785, 4527, 4727}), frozenset({4727, 4627, 4527}), frozenset({4807, 4627, 4527}), frozenset({4785, 4627, 4727})]\n"
     ]
    },
    {
     "data": {
      "application/vnd.jupyter.widget-view+json": {
       "model_id": "edab7dfce04b4ed5bb62459b38bb8302",
       "version_major": 2,
       "version_minor": 0
      },
      "text/plain": [
       "HBox(children=(IntProgress(value=0, max=49046), HTML(value='')))"
      ]
     },
     "metadata": {},
     "output_type": "display_data"
    },
    {
     "name": "stdout",
     "output_type": "stream",
     "text": [
      "Length of  4  ItemSet is:\n",
      " 80\n",
      "Itemset set of 4 Lenght\n",
      " [frozenset({180, 4438, 184, 170}), frozenset({180, 7062, 4438, 184}), frozenset({180, 7062, 184, 170}), frozenset({180, 7062, 4438, 170}), frozenset({7062, 4438, 184, 170}), frozenset({180, 4438, 184, 4428}), frozenset({7062, 4438, 170, 4428}), frozenset({180, 184, 170, 4428}), frozenset({180, 7062, 184, 4428}), frozenset({4434, 180, 4438, 184}), frozenset({180, 4438, 170, 4428}), frozenset({4438, 184, 170, 4428}), frozenset({4434, 7062, 4438, 170}), frozenset({180, 7062, 4438, 4428}), frozenset({7062, 4438, 184, 4428}), frozenset({180, 4438, 184, 4426}), frozenset({4432, 180, 4438, 184}), frozenset({7062, 4438, 4426, 4428}), frozenset({4432, 7062, 4438, 170}), frozenset({7062, 4438, 170, 4426}), frozenset({180, 4438, 184, 4940}), frozenset({4438, 170, 4428, 4426}), frozenset({4434, 180, 184, 170}), frozenset({180, 7092, 4438, 184}), frozenset({4434, 180, 7062, 184}), frozenset({7062, 4438, 170, 4940}), frozenset({180, 7062, 170, 4428}), frozenset({7062, 184, 170, 4428}), frozenset({180, 184, 170, 4426}), frozenset({4434, 4438, 184, 170}), frozenset({4434, 180, 4438, 170}), frozenset({4432, 180, 184, 170}), frozenset({4434, 7062, 4438, 184}), frozenset({4434, 180, 7062, 4438}), frozenset({4432, 180, 7062, 184}), frozenset({180, 7062, 184, 4426}), frozenset({4434, 7062, 4438, 4428}), frozenset({180, 184, 170, 4940}), frozenset({7092, 7062, 4438, 170}), frozenset({4438, 184, 170, 4426}), frozenset({180, 4438, 170, 4426}), frozenset({180, 184, 4426, 4428}), frozenset({4432, 7062, 4438, 4428}), frozenset({4432, 180, 4438, 170}), frozenset({4432, 4438, 184, 170}), frozenset({4432, 4438, 7062, 184}), frozenset({4432, 180, 7062, 4438}), frozenset({180, 7062, 184, 4940}), frozenset({7092, 180, 184, 170}), frozenset({7062, 170, 4428, 4426}), frozenset({180, 7092, 7062, 184}), frozenset({4434, 7062, 184, 170}), frozenset({4434, 180, 7062, 170}), frozenset({4434, 180, 184, 4428}), frozenset({7062, 184, 170, 4426}), frozenset({180, 7062, 170, 4426}), frozenset({4432, 180, 7062, 170}), frozenset({4432, 7062, 184, 170}), frozenset({4432, 180, 184, 4428}), frozenset({184, 170, 4428, 4426}), frozenset({180, 170, 4428, 4426}), frozenset({4432, 4434, 180, 184}), frozenset({180, 4428, 184, 4940}), frozenset({180, 7092, 184, 4428}), frozenset({4404, 260, 265, 3404}), frozenset({4785, 4833, 4807, 4527}), frozenset({4833, 4627, 4727, 4807}), frozenset({4833, 4807, 4727, 4527}), frozenset({4785, 4833, 4727, 4807}), frozenset({4785, 4807, 4727, 4527}), frozenset({4785, 4833, 4727, 4527}), frozenset({4833, 4627, 4807, 4527}), frozenset({4627, 4727, 4807, 4527}), frozenset({4833, 4627, 4727, 4527}), frozenset({4785, 4833, 4627, 4807}), frozenset({4785, 4627, 4807, 4527}), frozenset({4785, 4627, 4727, 4807}), frozenset({4785, 4833, 4627, 4527}), frozenset({4785, 4833, 4627, 4727}), frozenset({4785, 4627, 4727, 4527})]\n"
     ]
    },
    {
     "data": {
      "application/vnd.jupyter.widget-view+json": {
       "model_id": "2f27653bf195459c9ca011baacf7aae0",
       "version_major": 2,
       "version_minor": 0
      },
      "text/plain": [
       "HBox(children=(IntProgress(value=0, max=49046), HTML(value='')))"
      ]
     },
     "metadata": {},
     "output_type": "display_data"
    },
    {
     "name": "stdout",
     "output_type": "stream",
     "text": [
      "Length of  5  ItemSet is:\n",
      " 21\n",
      "Itemset set of 5 Lenght\n",
      " [frozenset({170, 180, 4438, 7062, 184}), frozenset({170, 4428, 180, 4438, 184}), frozenset({4428, 180, 4438, 7062, 184}), frozenset({170, 4428, 180, 7062, 184}), frozenset({170, 4434, 180, 4438, 184}), frozenset({4434, 180, 4438, 7062, 184}), frozenset({170, 4428, 180, 4438, 7062}), frozenset({170, 4428, 4438, 7062, 184}), frozenset({4426, 170, 180, 4438, 184}), frozenset({170, 4432, 180, 4438, 184}), frozenset({4432, 180, 4438, 7062, 184}), frozenset({170, 4434, 180, 7062, 184}), frozenset({4426, 170, 180, 7062, 184}), frozenset({170, 4432, 180, 7062, 184}), frozenset({170, 4426, 4428, 180, 184}), frozenset({4833, 4807, 4527, 4627, 4727}), frozenset({4833, 4807, 4527, 4785, 4727}), frozenset({4833, 4807, 4527, 4785, 4627}), frozenset({4833, 4807, 4785, 4627, 4727}), frozenset({4807, 4527, 4785, 4627, 4727}), frozenset({4833, 4527, 4785, 4627, 4727})]\n"
     ]
    },
    {
     "data": {
      "application/vnd.jupyter.widget-view+json": {
       "model_id": "8af0fbf59f0d4813bb4d8627232e5b14",
       "version_major": 2,
       "version_minor": 0
      },
      "text/plain": [
       "HBox(children=(IntProgress(value=0, max=49046), HTML(value='')))"
      ]
     },
     "metadata": {},
     "output_type": "display_data"
    },
    {
     "name": "stdout",
     "output_type": "stream",
     "text": [
      "Length of  6  ItemSet is:\n",
      " 2\n",
      "Itemset set of 6 Lenght\n",
      " [frozenset({170, 4428, 180, 4438, 7062, 184}), frozenset({4833, 4807, 4527, 4785, 4627, 4727})]\n"
     ]
    },
    {
     "data": {
      "application/vnd.jupyter.widget-view+json": {
       "model_id": "f596284061b44c5e9c45a969f47d4f4b",
       "version_major": 2,
       "version_minor": 0
      },
      "text/plain": [
       "HBox(children=(IntProgress(value=0, max=49046), HTML(value='')))"
      ]
     },
     "metadata": {},
     "output_type": "display_data"
    }
   ],
   "source": [
    "#for sample in samplesize:\n",
    "    #time1 = time.time();\n",
    "    #data = dataMain.sample(frac=sample, replace=True, random_state=1)\n",
    "    #dataSize = len(data)\n",
    "    #setData = list(map(set, data.to_numpy()))\n",
    "    #ItemSet1 = find1ItemSet(data)\n",
    "    #print(\"Length of 1 itemSet\",len(ItemSet1))\n",
    "minSupportList = [0.5]\n",
    "hcList = [.95]\n",
    "timeExecuted ={}\n",
    "patternfound ={}\n",
    "for hc in hcList:\n",
    "    tmexe = []\n",
    "    patternfnx = []\n",
    "    for minSupport in minSupportList: \n",
    "        t1= time.time()\n",
    "        FItemSet1 , SupportItemSet1 = calSupportAndPrune(setData,ItemSet1,minSupport,dataSize)\n",
    "        print (len(FItemSet1))\n",
    "        #print(time.time() - t1)\n",
    "        #t1= time.time()\n",
    "        ItemSetk = cp.deepcopy(FItemSet1)\n",
    "        totalItemCount = len(ItemSetk)\n",
    "        SupportItemSetk = cp.deepcopy(SupportItemSet1)\n",
    "        print(\"1 ItemSet are:\\n\",ItemSetk)\n",
    "        for i in tqdm_notebook(range(2,len(ItemSetk))):\n",
    "            CItemSetk = candidateGeneration(ItemSetk , SupportItemSetk, minSupport)\n",
    "            ItemSetk , SupportItemSetk = calSupportAndPrune(setData,CItemSetk,minSupport,dataSize)\n",
    "            ItemSetk = calHconfAndprune(ItemSetk,SupportItemSet1,SupportItemSetk,hc)\n",
    "            if(len(ItemSetk) ==0 ):\n",
    "                break;\n",
    "            print(\"Length of \",i ,\" ItemSet is:\\n\",len(ItemSetk))\n",
    "            print(\"Itemset set of\",i,\"Lenght\\n\",ItemSetk)\n",
    "            totalItemCount += len(ItemSetk)\n",
    "        #print(time.time() - t1)\n",
    "        #print (\"Total number of item generated are\",totalItemCount)\n",
    "        tmexe.append(time.time() - t1);\n",
    "        patternfnx.append(totalItemCount) \n",
    "    timeExecuted[hc] = tmexe\n",
    "    patternfound[hc] = patternfnx\n",
    "#dictTime[dataSize] = time.time() - time1\n",
    "        "
   ]
  },
  {
   "cell_type": "code",
   "execution_count": 33,
   "metadata": {},
   "outputs": [
    {
     "data": {
      "text/plain": [
       "{0.92: [164.50203824043274],\n",
       " 0.94: [93.56746125221252],\n",
       " 0.96: [61.80487036705017],\n",
       " 0.98: [57.03518486022949]}"
      ]
     },
     "execution_count": 33,
     "metadata": {},
     "output_type": "execute_result"
    }
   ],
   "source": [
    "timewithCross = timeExecuted\n",
    "timewithCross"
   ]
  },
  {
   "cell_type": "code",
   "execution_count": 35,
   "metadata": {},
   "outputs": [
    {
     "data": {
      "text/plain": [
       "{0.92: [173.15944743156433],\n",
       " 0.94: [105.50416874885559],\n",
       " 0.96: [65.59852576255798],\n",
       " 0.98: [54.475138425827026]}"
      ]
     },
     "execution_count": 35,
     "metadata": {},
     "output_type": "execute_result"
    }
   ],
   "source": [
    "timewithoutCross = timeExecuted\n",
    "timewithoutCross"
   ]
  },
  {
   "cell_type": "code",
   "execution_count": 36,
   "metadata": {},
   "outputs": [],
   "source": [
    "keys = timewithCross.keys()\n",
    "timevaluesC = timewithCross.values()\n",
    "timeC = [i[0] for i in timevaluesC]\n",
    "timevalues = timewithoutCross.values()\n",
    "time = [i[0] for i in timevalues]\n"
   ]
  },
  {
   "cell_type": "code",
   "execution_count": 37,
   "metadata": {},
   "outputs": [
    {
     "data": {
      "text/plain": [
       "Text(0, 0.5, 'Execution Time')"
      ]
     },
     "execution_count": 37,
     "metadata": {},
     "output_type": "execute_result"
    },
    {
     "data": {
      "image/png": "[encoded data removed]",
      "text/plain": [
       "<Figure size 432x288 with 1 Axes>"
      ]
     },
     "metadata": {
      "needs_background": "light"
     },
     "output_type": "display_data"
    }
   ],
   "source": [
    "axes = pt.gca()\n",
    "pt.plot(keys,timeC,label = 'Anti-Monotone + CrossSupport')\n",
    "pt.plot(keys,time,label = 'Anti-Monotone')\n",
    "pt.legend()\n",
    "pt.grid(True)\n",
    "pt.xlabel('H-confidence')\n",
    "pt.ylabel('Execution Time')"
   ]
  },
  {
   "cell_type": "markdown",
   "metadata": {},
   "source": [
    "# Output"
   ]
  },
  {
   "cell_type": "code",
   "execution_count": 15,
   "metadata": {
    "scrolled": true
   },
   "outputs": [
    {
     "name": "stdout",
     "output_type": "stream",
     "text": [
      "For Hconficence value  of  0.95\n",
      "No of Pattern \t Execution time\n",
      "435 \t\t 91.46761417388916\n",
      "\n",
      "\n"
     ]
    }
   ],
   "source": [
    "for hc in hcList:\n",
    "    print(\"For Hconficence value  of \", hc)\n",
    "    print (\"No of Pattern \\t Execution time\")\n",
    "    for i in range(len(minSupportList)):\n",
    "        print (patternfound[hc][i] ,\"\\t\\t\", timeExecuted[hc][i])\n",
    "    print (\"\\n\")"
   ]
  },
  {
   "cell_type": "code",
   "execution_count": 62,
   "metadata": {},
   "outputs": [],
   "source": [
    "def plotLossFunction(x , y, z,hc):\n",
    "    pt.ion()\n",
    "    fig, (ax1, ax2) = pt.subplots(nrows=1, ncols=2,figsize=(10, 4))\n",
    "    #axes = pt.gca()\n",
    "    #axes.set_xlim([xmin,xmax])\n",
    "    #axes.set_ylim([0,10000])\n",
    "    ax1.plot(x,y[hc[0]],label = 'hconf'+ str(hc[0]))\n",
    "    ax1.plot(x,y[hc[1]],label = 'hconf'+ str(hc[1]))\n",
    "    ax1.set_title('Confidence-Pruning Effect')\n",
    "    ax1.legend()\n",
    "    ax1.grid()\n",
    "    ax1.set_xlabel('Minimum Support Thresholds')\n",
    "    ax1.set_ylabel('Number of Hyperclique Patterns')\n",
    "    \n",
    "    #axes.set_ylim([0,max(z[hc[1]])])\n",
    "    ax2.plot(x,z[hc[0]], label = 'hconf = '+ str(hc[0]))\n",
    "    ax2.plot(x,z[hc[1]], label = 'hconf = '+ str(hc[1]))\n",
    "    ax2.legend()\n",
    "    ax2.grid()\n",
    "    ax2.set_title('Time Taken')\n",
    "    ax2.set_xlabel('Minimum Support Thresholds')\n",
    "    ax2.set_ylabel('Execution Time (sec)')\n",
    "    ax2.yaxis.tick_right()\n",
    "    pt.show()"
   ]
  },
  {
   "cell_type": "code",
   "execution_count": 63,
   "metadata": {},
   "outputs": [
    {
     "data": {
      "image/png": "[encoded data removed]",
      "text/plain": [
       "<Figure size 720x288 with 2 Axes>"
      ]
     },
     "metadata": {
      "needs_background": "light"
     },
     "output_type": "display_data"
    }
   ],
   "source": [
    "plotLossFunction(minSupportList,patternfound,timeExecuted,hcList)"
   ]
  },
  {
   "cell_type": "code",
   "execution_count": 60,
   "metadata": {},
   "outputs": [],
   "source": [
    "def plotSingle(x,y,hc):\n",
    "    axes = pt.gca()\n",
    "    #axes.set_xlim([xmin,xmax])\n",
    "    axes.set_ylim([0,3500])\n",
    "    pt.plot(x,y[hc[0]],label = 'hconf'+ str(hc[0]))\n",
    "    pt.plot(x,y[hc[1]],label = 'hconf'+ str(hc[1]))\n",
    "    #pt.set_title('Confidence-Pruning Effect')\n",
    "    pt.legend()\n",
    "    pt.grid(True)\n",
    "    pt.xlabel('Minimum Support Thresholds')\n",
    "    pt.ylabel('Number of Hyperclique Patterns')"
   ]
  },
  {
   "cell_type": "code",
   "execution_count": 61,
   "metadata": {},
   "outputs": [
    {
     "data": {
      "image/png": "[encoded data removed]",
      "text/plain": [
       "<Figure size 432x288 with 1 Axes>"
      ]
     },
     "metadata": {
      "needs_background": "light"
     },
     "output_type": "display_data"
    }
   ],
   "source": [
    "plotSingle(minSupportList,patternfound,hcList)"
   ]
  },
  {
   "cell_type": "code",
   "execution_count": 21,
   "metadata": {},
   "outputs": [
    {
     "data": {
      "text/plain": [
       "Text(0, 0.5, 'Execution Time')"
      ]
     },
     "execution_count": 21,
     "metadata": {},
     "output_type": "execute_result"
    },
    {
     "data": {
      "image/png": "[encoded data removed]",
      "text/plain": [
       "<Figure size 432x288 with 1 Axes>"
      ]
     },
     "metadata": {
      "needs_background": "light"
     },
     "output_type": "display_data"
    }
   ],
   "source": [
    "axes = pt.gca()\n",
    "#axes.set_xlim([xmin,xmax])\n",
    "#axes.set_ylim([0,3500])\n",
    "pt.plot(samplesize,list(dictTime.values()),label = 'hconf: .95 and minSupp: .5')\n",
    "pt.legend()\n",
    "pt.grid(True)\n",
    "pt.xlabel('Transaction Fraction')\n",
    "pt.ylabel('Execution Time')"
   ]
  },
  {
   "cell_type": "code",
   "execution_count": null,
   "metadata": {},
   "outputs": [],
   "source": []
  }
 ],
 "metadata": {
  "kernelspec": {
   "display_name": "Python 3",
   "language": "python",
   "name": "python3"
  },
  "language_info": {
   "codemirror_mode": {
    "name": "ipython",
    "version": 3
   },
   "file_extension": ".py",
   "mimetype": "text/x-python",
   "name": "python",
   "nbconvert_exporter": "python",
   "pygments_lexer": "ipython3",
   "version": "3.7.3"
  }
 },
 "nbformat": 4,
 "nbformat_minor": 2
}
