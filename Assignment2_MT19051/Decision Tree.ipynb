{
 "cells": [
  {
   "cell_type": "code",
   "execution_count": 1,
   "metadata": {},
   "outputs": [],
   "source": [
    "import arff\n",
    "import numpy as np\n",
    "import pandas as pd\n",
    "from sklearn.model_selection import cross_val_score\n",
    "from sklearn.tree import DecisionTreeClassifier\n",
    "from sklearn import preprocessing\n",
    "import matplotlib.pyplot as pt\n",
    "from sklearn.model_selection import KFold\n",
    "from sklearn.decomposition import PCA\n",
    "from sklearn.neighbors import KNeighborsClassifier\n",
    "from sklearn.naive_bayes import GaussianNB"
   ]
  },
  {
   "cell_type": "code",
   "execution_count": 2,
   "metadata": {},
   "outputs": [],
   "source": [
    "def LoadData(name):\n",
    "    originalData = arff.load(open(name))\n",
    "    return originalData"
   ]
  },
  {
   "cell_type": "code",
   "execution_count": 3,
   "metadata": {},
   "outputs": [],
   "source": [
    "def extractAttribute(extData):\n",
    "    attributesTuple = extData.get(\"attributes\",[])\n",
    "    attributeList=[a[0] for a in attributesTuple]\n",
    "    return attributeList,attributesTuple"
   ]
  },
  {
   "cell_type": "code",
   "execution_count": 4,
   "metadata": {},
   "outputs": [],
   "source": [
    "def extractData(extdata,attributeList):\n",
    "    data=extdata.get(\"data\")\n",
    "    dataset = pd.DataFrame(data,columns=attributeList)\n",
    "    return dataset"
   ]
  },
  {
   "cell_type": "code",
   "execution_count": 5,
   "metadata": {},
   "outputs": [],
   "source": [
    "def getExtraColumn(noOfRecord,attributeList,dataset):\n",
    "    dropColm = list() \n",
    "    for i in attributeList:\n",
    "        if(dataset[i].count() < noOfRecord/2):\n",
    "            dropColm.append(i);\n",
    "        else:    \n",
    "            distinctvalues = dataset[i].value_counts()\n",
    "            distinctvalues = distinctvalues.sort_values()\n",
    "            if(distinctvalues.index[-1] == 'NULL' and distinctvalues[-1] > noOfRecord/2  ):\n",
    "                dropColm.append(i);\n",
    "    return dropColm"
   ]
  },
  {
   "cell_type": "code",
   "execution_count": 6,
   "metadata": {},
   "outputs": [],
   "source": [
    "def getFinalList(dropColumn,attributeList,attributesTuple):\n",
    "    updatedList = [i for i in attributeList if i not in dropColumn]\n",
    "    updatedValues = [i for i in attributesTuple if i[0] not in dropColumn]\n",
    "    for i in range(len(updatedList)):\n",
    "        updatedValues[i][1].append('FillNone') \n",
    "    return updatedList,updatedValues"
   ]
  },
  {
   "cell_type": "code",
   "execution_count": 7,
   "metadata": {},
   "outputs": [],
   "source": [
    "def dealWithMissingvalue(dropColumn,dataset):\n",
    "    dataset = dataset.drop(dropColumn, axis = 1)\n",
    "    dataset= dataset.replace(to_replace = [None,'NULL'], value = 'FillNone')\n",
    "    return dataset"
   ]
  },
  {
   "cell_type": "code",
   "execution_count": 8,
   "metadata": {},
   "outputs": [],
   "source": [
    "def EncodeValues(attributeList,updatedValues,dataset):\n",
    "    listOfNominalAttribute=['Session First Request Day of Week','Session Last Request Day Of Week','Assortment Level 2 Path Last'\n",
    "                        ,'Content Level 2 Path Last','Session Browser Family Top 3',\n",
    "                       'Session First Template Top 5','Session Last Template Top 5','Session First Referrer Top 5']\n",
    "    for i in range(len(attributeList)):\n",
    "        if (attributeList[i] not in listOfNominalAttribute):\n",
    "            dataset[attributeList[i]] = dataset[attributeList[i]].apply(lambda x : updatedValues[i][1].index(x))\n",
    "    for i in listOfNominalAttribute:\n",
    "        dataset = pd.get_dummies(dataset[i],prefix=i.replace(\" \", \"\")).join(dataset)\n",
    "    dataset = dataset.drop(listOfNominalAttribute,axis =1)\n",
    "    return dataset"
   ]
  },
  {
   "cell_type": "code",
   "execution_count": 9,
   "metadata": {
    "scrolled": true
   },
   "outputs": [],
   "source": [
    "trainingName='training_subsetD.arff'\n",
    "testingName='testingD.arff' \n",
    "#Load Data \n",
    "trainingData = LoadData(trainingName)\n",
    "testingData = LoadData(testingName)"
   ]
  },
  {
   "cell_type": "code",
   "execution_count": 66,
   "metadata": {},
   "outputs": [
    {
     "data": {
      "text/plain": [
       "False    18708\n",
       "True      6292\n",
       "Name: 274, dtype: int64"
      ]
     },
     "execution_count": 66,
     "metadata": {},
     "output_type": "execute_result"
    }
   ],
   "source": [
    "#XYZ=testingData.get(\"data\")\n",
    "#DFXYZ = pd.DataFrame(XYZ)\n",
    "#DFXYZ.iloc[:,-1].value_counts()"
   ]
  },
  {
   "cell_type": "code",
   "execution_count": 10,
   "metadata": {},
   "outputs": [],
   "source": [
    "attributeList,attributesTuple = extractAttribute(trainingData)\n",
    "dataset = extractData(trainingData,attributeList)\n",
    "datasetTesting = extractData(testingData,attributeList)  "
   ]
  },
  {
   "cell_type": "code",
   "execution_count": 11,
   "metadata": {},
   "outputs": [],
   "source": [
    "dropColumn = getExtraColumn(len(dataset),attributeList,dataset)\n",
    "dropColumn.extend(['Num Pin Dot Pattern Views','Session Browser Family'])"
   ]
  },
  {
   "cell_type": "code",
   "execution_count": 12,
   "metadata": {},
   "outputs": [],
   "source": [
    "attributeList,updatedVlaues = getFinalList(dropColumn,attributeList,attributesTuple)\n",
    "dataset = dealWithMissingvalue(dropColumn,dataset)\n",
    "datasetTesting = dealWithMissingvalue(dropColumn,datasetTesting)"
   ]
  },
  {
   "cell_type": "code",
   "execution_count": 13,
   "metadata": {},
   "outputs": [],
   "source": [
    "dataset = EncodeValues(attributeList,updatedVlaues,dataset)\n",
    "datasetTesting = EncodeValues(attributeList,updatedVlaues,datasetTesting)"
   ]
  },
  {
   "cell_type": "code",
   "execution_count": 14,
   "metadata": {},
   "outputs": [
    {
     "name": "stdout",
     "output_type": "stream",
     "text": [
      "attributeList Session Cookie ID\n",
      "updatedValues ('Session Cookie ID', [\"'(-inf-187131.5]'\", \"'(187131.5-425048]'\", \"'(425048-662136.5]'\", \"'(662136.5-883316]'\", \"'(883316-inf)'\", 'FillNone'])\n",
      "attributeList Session ID\n",
      "updatedValues ('Session ID', [\"'(-inf-82045]'\", \"'(82045-164065]'\", \"'(164065-247691]'\", \"'(247691-322370]'\", \"'(322370-inf)'\", 'FillNone'])\n",
      "attributeList Session Visit Count\n",
      "updatedValues ('Session Visit Count', [\"'(-inf-1.5]'\", \"'(1.5-2.5]'\", \"'(2.5-4.5]'\", \"'(4.5-26.5]'\", \"'(26.5-inf)'\", 'FillNone'])\n",
      "attributeList Session First Processing Time\n",
      "updatedValues ('Session First Processing Time', [\"'(-inf-54.5]'\", \"'(54.5-62.5]'\", \"'(62.5-70.5]'\", \"'(70.5-179.5]'\", \"'(179.5-inf)'\", 'FillNone'])\n",
      "attributeList Session First Content ID\n",
      "updatedValues ('Session First Content ID', [\"'(-inf-1351]'\", \"'(1351-1391]'\", \"'(1391-8354]'\", \"'(8354-11574]'\", \"'(11574-inf)'\", 'FillNone'])\n",
      "attributeList Session First Request Day of Week\n",
      "updatedValues ('Session First Request Day of Week', ['Monday', 'Tuesday', 'Wednesday', 'Thursday', 'Friday', 'Saturday', 'Sunday', 'FillNone'])\n",
      "attributeList Session First Request Hour of Day\n",
      "updatedValues ('Session First Request Hour of Day', [\"'(-inf-6.5]'\", \"'(6.5-10.5]'\", \"'(10.5-14.5]'\", \"'(14.5-18.5]'\", \"'(18.5-inf)'\", 'FillNone'])\n",
      "attributeList Session Request Count\n",
      "updatedValues ('Session Request Count', [\"'(-inf-1.5]'\", \"'(1.5-2.5]'\", \"'(2.5-3.5]'\", \"'(3.5-6.5]'\", \"'(6.5-inf)'\", 'FillNone'])\n",
      "attributeList Num Hanes Product Views\n",
      "updatedValues ('Num Hanes Product Views', [\"'(-inf-0.5]'\", \"'(0.5-1.5]'\", \"'(1.5-2.5]'\", \"'(2.5-3.5]'\", \"'(3.5-inf)'\", 'FillNone'])\n",
      "attributeList Num Oroblu Product Views\n",
      "updatedValues ('Num Oroblu Product Views', [\"'(-inf-0.5]'\", \"'(0.5-1.5]'\", \"'(1.5-2.5]'\", \"'(2.5-3.5]'\", \"'(3.5-inf)'\", 'FillNone'])\n",
      "attributeList Num AmericanEssentials Product Views\n",
      "updatedValues ('Num AmericanEssentials Product Views', [\"'(-inf-0.5]'\", \"'(0.5-1.5]'\", \"'(1.5-2.5]'\", \"'(2.5-3.5]'\", \"'(3.5-inf)'\", 'FillNone'])\n",
      "attributeList Num Danskin Product Views\n",
      "updatedValues ('Num Danskin Product Views', [\"'(-inf-0.5]'\", \"'(0.5-1.5]'\", \"'(1.5-2.5]'\", \"'(2.5-4.5]'\", \"'(4.5-inf)'\", 'FillNone'])\n",
      "attributeList Num DonnaKaran Product Views\n",
      "updatedValues ('Num DonnaKaran Product Views', [\"'(-inf-0.5]'\", \"'(0.5-1.5]'\", \"'(1.5-2.5]'\", \"'(2.5-3.5]'\", \"'(3.5-inf)'\", 'FillNone'])\n",
      "attributeList Num Givenchy Product Views\n",
      "updatedValues ('Num Givenchy Product Views', [\"'(-inf-0.5]'\", \"'(0.5-1.5]'\", \"'(1.5-2.5]'\", \"'(2.5-3.5]'\", \"'(3.5-inf)'\", 'FillNone'])\n",
      "attributeList Num EvanPicone Product Views\n",
      "updatedValues ('Num EvanPicone Product Views', [\"'(-inf-0.5]'\", \"'(0.5-1.5]'\", \"'(1.5-2.5]'\", \"'(2.5-3.5]'\", \"'(3.5-inf)'\", 'FillNone'])\n",
      "attributeList Num NicoleMiller Product Views\n",
      "updatedValues ('Num NicoleMiller Product Views', [\"'(-inf-0.5]'\", \"'(0.5-1.5]'\", \"'(1.5-2.5]'\", \"'(2.5-3.5]'\", \"'(3.5-inf)'\", 'FillNone'])\n",
      "attributeList Num HotSox Product Views\n",
      "updatedValues ('Num HotSox Product Views', [\"'(-inf-0.5]'\", \"'(0.5-1.5]'\", \"'(1.5-2.5]'\", \"'(2.5-3.5]'\", \"'(3.5-inf)'\", 'FillNone'])\n",
      "attributeList Num EllenTracy Product Views\n",
      "updatedValues ('Num EllenTracy Product Views', [\"'(-inf-0.5]'\", \"'(0.5-1.5]'\", \"'(1.5-2.5]'\", \"'(2.5-3.5]'\", \"'(3.5-inf)'\", 'FillNone'])\n",
      "attributeList Num Legwear Product Views\n",
      "updatedValues ('Num Legwear Product Views', [\"'(-inf-0.5]'\", \"'(0.5-1.5]'\", \"'(1.5-2.5]'\", \"'(2.5-4.5]'\", \"'(4.5-inf)'\", 'FillNone'])\n",
      "attributeList Num LegCare Product Views\n",
      "updatedValues ('Num LegCare Product Views', [\"'(-inf-0.5]'\", \"'(0.5-1.5]'\", \"'(1.5-2.5]'\", \"'(2.5-3.5]'\", \"'(3.5-inf)'\", 'FillNone'])\n",
      "attributeList Num Cotton Product Views\n",
      "updatedValues ('Num Cotton Product Views', [\"'(-inf-0.5]'\", \"'(0.5-1.5]'\", \"'(1.5-2.5]'\", \"'(2.5-4.5]'\", \"'(4.5-inf)'\", 'FillNone'])\n",
      "attributeList Num Nylon Product Views\n",
      "updatedValues ('Num Nylon Product Views', [\"'(-inf-0.5]'\", \"'(0.5-1.5]'\", \"'(1.5-2.5]'\", \"'(2.5-3.5]'\", \"'(3.5-inf)'\", 'FillNone'])\n",
      "attributeList Num Coolmax Product Views\n",
      "updatedValues ('Num Coolmax Product Views', [\"'(-inf-0.5]'\", \"'(0.5-2.5]'\", \"'(2.5-6]'\", \"'(6-inf)'\", 'FillNone'])\n",
      "attributeList Num Lycra Product Views\n",
      "updatedValues ('Num Lycra Product Views', [\"'(-inf-0.5]'\", \"'(0.5-1.5]'\", \"'(1.5-2.5]'\", \"'(2.5-4]'\", \"'(4-inf)'\", 'FillNone'])\n",
      "attributeList Num Luxury Product Views\n",
      "updatedValues ('Num Luxury Product Views', [\"'(-inf-0.5]'\", \"'(0.5-1.5]'\", \"'(1.5-2.5]'\", \"'(2.5-inf)'\", 'FillNone'])\n",
      "attributeList Num Rayon Product Views\n",
      "updatedValues ('Num Rayon Product Views', [\"'(-inf-0.5]'\", \"'(0.5-1.5]'\", \"'(1.5-3]'\", \"'(3-5]'\", \"'(5-inf)'\", 'FillNone'])\n",
      "attributeList Num Cotton/Acrylic Product Views\n",
      "updatedValues ('Num Cotton/Acrylic Product Views', [\"'(-inf-0.5]'\", \"'(0.5-1.5]'\", \"'(1.5-2.5]'\", \"'(2.5-3.5]'\", \"'(3.5-inf)'\", 'FillNone'])\n",
      "attributeList Num Silk Product Views\n",
      "updatedValues ('Num Silk Product Views', [\"'(-inf-0.5]'\", \"'(0.5-inf)'\", 'FillNone'])\n",
      "attributeList Num Opaque Product Views\n",
      "updatedValues ('Num Opaque Product Views', [\"'(-inf-0.5]'\", \"'(0.5-inf)'\", 'FillNone'])\n",
      "attributeList Num Herringbone Pattern Views\n",
      "updatedValues ('Num Herringbone Pattern Views', [\"'(-inf-0.5]'\", \"'(0.5-1.5]'\", \"'(1.5-2.5]'\", \"'(2.5-4]'\", \"'(4-inf)'\", 'FillNone'])\n",
      "attributeList Num Stripe Pattern Views\n",
      "updatedValues ('Num Stripe Pattern Views', [\"'(-inf-0.5]'\", \"'(0.5-1.5]'\", \"'(1.5-2.5]'\", \"'(2.5-inf)'\", 'FillNone'])\n",
      "attributeList Num Plaid Pattern Views\n",
      "updatedValues ('Num Plaid Pattern Views', [\"'(-inf-0.5]'\", \"'(0.5-1.5]'\", \"'(1.5-2.5]'\", \"'(2.5-inf)'\", 'FillNone'])\n",
      "attributeList Num Conversational Pattern Views\n",
      "updatedValues ('Num Conversational Pattern Views', [\"'(-inf-0.5]'\", \"'(0.5-1.5]'\", \"'(1.5-2.5]'\", \"'(2.5-3.5]'\", \"'(3.5-inf)'\", 'FillNone'])\n",
      "attributeList Num Solid Pattern Views\n",
      "updatedValues ('Num Solid Pattern Views', [\"'(-inf-0.5]'\", \"'(0.5-1.5]'\", \"'(1.5-2.5]'\", \"'(2.5-4.5]'\", \"'(4.5-inf)'\", 'FillNone'])\n",
      "attributeList Num Pique Pattern Views\n",
      "updatedValues ('Num Pique Pattern Views', [\"'(-inf-0.5]'\", \"'(0.5-1.5]'\", \"'(1.5-2.5]'\", \"'(2.5-inf)'\", 'FillNone'])\n",
      "attributeList Num Floral Pattern Views\n",
      "updatedValues ('Num Floral Pattern Views', [\"'(-inf-0.5]'\", \"'(0.5-1.5]'\", \"'(1.5-3]'\", \"'(3-5]'\", \"'(5-inf)'\", 'FillNone'])\n",
      "attributeList Num BrandOrder Assortment Views\n",
      "updatedValues ('Num BrandOrder Assortment Views', [\"'(-inf-0.5]'\", \"'(0.5-1.5]'\", \"'(1.5-2.5]'\", \"'(2.5-3.5]'\", \"'(3.5-inf)'\", 'FillNone'])\n",
      "attributeList Num UniqueBoutiques Assortment Views\n",
      "updatedValues ('Num UniqueBoutiques Assortment Views', [\"'(-inf-0.5]'\", \"'(0.5-1.5]'\", \"'(1.5-2.5]'\", \"'(2.5-4.5]'\", \"'(4.5-inf)'\", 'FillNone'])\n",
      "attributeList Num Brands Assortment Views\n",
      "updatedValues ('Num Brands Assortment Views', [\"'(-inf-0.5]'\", \"'(0.5-1.5]'\", \"'(1.5-2.5]'\", \"'(2.5-5.5]'\", \"'(5.5-inf)'\", 'FillNone'])\n",
      "attributeList Num Departments Assortment Views\n",
      "updatedValues ('Num Departments Assortment Views', [\"'(-inf-0.5]'\", \"'(0.5-1.5]'\", \"'(1.5-2.5]'\", \"'(2.5-4.5]'\", \"'(4.5-inf)'\", 'FillNone'])\n",
      "attributeList Num LifeStyles Assortment Views\n",
      "updatedValues ('Num LifeStyles Assortment Views', [\"'(-inf-0.5]'\", \"'(0.5-1.5]'\", \"'(1.5-2.5]'\", \"'(2.5-4.5]'\", \"'(4.5-inf)'\", 'FillNone'])\n",
      "attributeList Num SaleAssortments Assortment Views\n",
      "updatedValues ('Num SaleAssortments Assortment Views', [\"'(-inf-0.5]'\", \"'(0.5-1.5]'\", \"'(1.5-2.5]'\", \"'(2.5-5.5]'\", \"'(5.5-inf)'\", 'FillNone'])\n",
      "attributeList Num Welcome Assortment Views\n",
      "updatedValues ('Num Welcome Assortment Views', [\"'(-inf-0.5]'\", \"'(0.5-1.5]'\", \"'(1.5-2.5]'\", \"'(2.5-3.5]'\", \"'(3.5-inf)'\", 'FillNone'])\n",
      "attributeList Num Seasonal Assortment Views\n",
      "updatedValues ('Num Seasonal Assortment Views', [\"'(-inf-0.5]'\", \"'(0.5-1.5]'\", \"'(1.5-3]'\", \"'(3-inf)'\", 'FillNone'])\n",
      "attributeList Request Processing Time Average\n",
      "updatedValues ('Request Processing Time Average', [\"'(-inf-47.083333]'\", \"'(47.083333-62.9]'\", \"'(62.9-78.071429]'\", \"'(78.071429-387.785714]'\", \"'(387.785714-inf)'\", 'FillNone'])\n",
      "attributeList Request Processing Time Sum\n",
      "updatedValues ('Request Processing Time Sum', [\"'(-inf-47.5]'\", \"'(47.5-62.5]'\", \"'(62.5-93.5]'\", \"'(93.5-795.5]'\", \"'(795.5-inf)'\", 'FillNone'])\n",
      "attributeList Session Last Request Processing Time\n",
      "updatedValues ('Session Last Request Processing Time', [\"'(-inf-46.5]'\", \"'(46.5-54.5]'\", \"'(54.5-70.5]'\", \"'(70.5-304.5]'\", \"'(304.5-inf)'\", 'FillNone'])\n",
      "attributeList Num main Template Views\n",
      "updatedValues ('Num main Template Views', [\"'(-inf-0.5]'\", \"'(0.5-1.5]'\", \"'(1.5-2.5]'\", \"'(2.5-4.5]'\", \"'(4.5-inf)'\", 'FillNone'])\n",
      "attributeList Num products Template Views\n",
      "updatedValues ('Num products Template Views', [\"'(-inf-0.5]'\", \"'(0.5-1.5]'\", \"'(1.5-2.5]'\", \"'(2.5-4.5]'\", \"'(4.5-inf)'\", 'FillNone'])\n",
      "attributeList Num articles Template Views\n",
      "updatedValues ('Num articles Template Views', [\"'(-inf-0.5]'\", \"'(0.5-1.5]'\", \"'(1.5-2.5]'\", \"'(2.5-4.5]'\", \"'(4.5-inf)'\", 'FillNone'])\n",
      "attributeList Num account Template Views\n",
      "updatedValues ('Num account Template Views', [\"'(-inf-0.5]'\", \"'(0.5-1.5]'\", \"'(1.5-2.5]'\", \"'(2.5-4.5]'\", \"'(4.5-inf)'\", 'FillNone'])\n",
      "attributeList Num checkout Template Views\n",
      "updatedValues ('Num checkout Template Views', [\"'(-inf-0.5]'\", \"'(0.5-1.5]'\", \"'(1.5-2.5]'\", \"'(2.5-3.5]'\", \"'(3.5-inf)'\", 'FillNone'])\n",
      "attributeList Num main/home Template Views\n",
      "updatedValues ('Num main/home Template Views', [\"'(-inf-0.5]'\", \"'(0.5-1.5]'\", \"'(1.5-2.5]'\", \"'(2.5-3.5]'\", \"'(3.5-inf)'\", 'FillNone'])\n",
      "attributeList Num products/productDetailLegwear Template Views\n",
      "updatedValues ('Num products/productDetailLegwear Template Views', [\"'(-inf-0.5]'\", \"'(0.5-1.5]'\", \"'(1.5-2.5]'\", \"'(2.5-4.5]'\", \"'(4.5-inf)'\", 'FillNone'])\n",
      "attributeList Num main/boutique Template Views\n",
      "updatedValues ('Num main/boutique Template Views', [\"'(-inf-0.5]'\", \"'(0.5-1.5]'\", \"'(1.5-2.5]'\", \"'(2.5-3.5]'\", \"'(3.5-inf)'\", 'FillNone'])\n",
      "attributeList Num main/departments Template Views\n",
      "updatedValues ('Num main/departments Template Views', [\"'(-inf-0.5]'\", \"'(0.5-1.5]'\", \"'(1.5-2.5]'\", \"'(2.5-3.5]'\", \"'(3.5-inf)'\", 'FillNone'])\n",
      "attributeList Num main/assortment Template Views\n",
      "updatedValues ('Num main/assortment Template Views', [\"'(-inf-0.5]'\", \"'(0.5-1.5]'\", \"'(1.5-2.5]'\", \"'(2.5-3.5]'\", \"'(3.5-inf)'\", 'FillNone'])\n",
      "attributeList Num main/vendor Template Views\n",
      "updatedValues ('Num main/vendor Template Views', [\"'(-inf-0.5]'\", \"'(0.5-1.5]'\", \"'(1.5-2.5]'\", \"'(2.5-4.5]'\", \"'(4.5-inf)'\", 'FillNone'])\n",
      "attributeList Num main/search_results Template Views\n",
      "updatedValues ('Num main/search_results Template Views', [\"'(-inf-0.5]'\", \"'(0.5-1.5]'\", \"'(1.5-2.5]'\", \"'(2.5-4.5]'\", \"'(4.5-inf)'\", 'FillNone'])\n",
      "attributeList Num main/lifestyles Template Views\n",
      "updatedValues ('Num main/lifestyles Template Views', [\"'(-inf-0.5]'\", \"'(0.5-1.5]'\", \"'(1.5-2.5]'\", \"'(2.5-3.5]'\", \"'(3.5-inf)'\", 'FillNone'])\n",
      "attributeList Num main/shopping_cart Template Views\n",
      "updatedValues ('Num main/shopping_cart Template Views', [\"'(-inf-0.5]'\", \"'(0.5-1.5]'\", \"'(1.5-2.5]'\", \"'(2.5-4.5]'\", \"'(4.5-inf)'\", 'FillNone'])\n",
      "attributeList Num main/assortment2 Template Views\n",
      "updatedValues ('Num main/assortment2 Template Views', [\"'(-inf-0.5]'\", \"'(0.5-1.5]'\", \"'(1.5-2.5]'\", \"'(2.5-3.5]'\", \"'(3.5-inf)'\", 'FillNone'])\n",
      "attributeList Num products/productDetailLegcare Template Views\n",
      "updatedValues ('Num products/productDetailLegcare Template Views', [\"'(-inf-0.5]'\", \"'(0.5-1.5]'\", \"'(1.5-2.5]'\", \"'(2.5-3.5]'\", \"'(3.5-inf)'\", 'FillNone'])\n",
      "attributeList Num articles/dpt_about Template Views\n",
      "updatedValues ('Num articles/dpt_about Template Views', [\"'(-inf-0.5]'\", \"'(0.5-1.5]'\", \"'(1.5-2.5]'\", \"'(2.5-3.5]'\", \"'(3.5-inf)'\", 'FillNone'])\n",
      "attributeList Num main/login2 Template Views\n",
      "updatedValues ('Num main/login2 Template Views', [\"'(-inf-0.5]'\", \"'(0.5-1.5]'\", \"'(1.5-2.5]'\", \"'(2.5-3.5]'\", \"'(3.5-inf)'\", 'FillNone'])\n",
      "attributeList Num main/replenishment Template Views\n",
      "updatedValues ('Num main/replenishment Template Views', [\"'(-inf-0.5]'\", \"'(0.5-1.5]'\", \"'(1.5-2.5]'\", \"'(2.5-3.5]'\", \"'(3.5-inf)'\", 'FillNone'])\n",
      "attributeList Num articles/dpt_about_mgmtteam Template Views\n",
      "updatedValues ('Num articles/dpt_about_mgmtteam Template Views', [\"'(-inf-0.5]'\", \"'(0.5-1.5]'\", \"'(1.5-2.5]'\", \"'(2.5-inf)'\", 'FillNone'])\n",
      "attributeList Num main/freegift Template Views\n",
      "updatedValues ('Num main/freegift Template Views', [\"'(-inf-0.5]'\", \"'(0.5-1.5]'\", \"'(1.5-2.5]'\", \"'(2.5-inf)'\", 'FillNone'])\n",
      "attributeList Num main/leg_news Template Views\n",
      "updatedValues ('Num main/leg_news Template Views', [\"'(-inf-0.5]'\", \"'(0.5-1.5]'\", \"'(1.5-2.5]'\", \"'(2.5-3.5]'\", \"'(3.5-inf)'\", 'FillNone'])\n",
      "attributeList Num main/vendor2 Template Views\n",
      "updatedValues ('Num main/vendor2 Template Views', [\"'(-inf-0.5]'\", \"'(0.5-1.5]'\", \"'(1.5-2.5]'\", \"'(2.5-3.5]'\", \"'(3.5-inf)'\", 'FillNone'])\n",
      "attributeList Num main/registration Template Views\n",
      "updatedValues ('Num main/registration Template Views', [\"'(-inf-0.5]'\", \"'(0.5-1.5]'\", \"'(1.5-2.5]'\", \"'(2.5-3.5]'\", \"'(3.5-inf)'\", 'FillNone'])\n",
      "attributeList Num main/cust_serv Template Views\n",
      "updatedValues ('Num main/cust_serv Template Views', [\"'(-inf-0.5]'\", \"'(0.5-1.5]'\", \"'(1.5-2.5]'\", \"'(2.5-inf)'\", 'FillNone'])\n",
      "attributeList Num Spray Package Views\n",
      "updatedValues ('Num Spray Package Views', [\"'(-inf-0.5]'\", \"'(0.5-inf)'\", 'FillNone'])\n",
      "attributeList Num Box Package Views\n",
      "updatedValues ('Num Box Package Views', [\"'(-inf-0.5]'\", \"'(0.5-1.5]'\", \"'(1.5-inf)'\", 'FillNone'])\n",
      "attributeList Num Tube Package Views\n",
      "updatedValues ('Num Tube Package Views', [\"'(-inf-0.5]'\", \"'(0.5-1.5]'\", \"'(1.5-2.5]'\", \"'(2.5-3.5]'\", \"'(3.5-inf)'\", 'FillNone'])\n",
      "attributeList Num Jar Package Views\n",
      "updatedValues ('Num Jar Package Views', [\"'(-inf-0.5]'\", \"'(0.5-1.5]'\", \"'(1.5-2.5]'\", \"'(2.5-4.5]'\", \"'(4.5-inf)'\", 'FillNone'])\n",
      "attributeList Num Bottle Package Views\n",
      "updatedValues ('Num Bottle Package Views', [\"'(-inf-0.5]'\", \"'(0.5-1.5]'\", \"'(1.5-6]'\", \"'(6-inf)'\", 'FillNone'])\n",
      "attributeList Num Gift Sets & Special Items Views\n",
      "updatedValues ('Num Gift Sets & Special Items Views', [\"'(-inf-0.5]'\", \"'(0.5-1.5]'\", \"'(1.5-2.5]'\", \"'(2.5-inf)'\", 'FillNone'])\n",
      "attributeList Num Deodorizer Views\n",
      "updatedValues ('Num Deodorizer Views', [\"'(-inf-0.5]'\", \"'(0.5-1.5]'\", \"'(1.5-inf)'\", 'FillNone'])\n",
      "attributeList Num Firming Views\n",
      "updatedValues ('Num Firming Views', [\"'(-inf-0.5]'\", \"'(0.5-1.5]'\", \"'(1.5-inf)'\", 'FillNone'])\n",
      "attributeList Num Energizers & Relaxers Views\n",
      "updatedValues ('Num Energizers & Relaxers Views', [\"'(-inf-0.5]'\", \"'(0.5-1.5]'\", \"'(1.5-4]'\", \"'(4-inf)'\", 'FillNone'])\n",
      "attributeList Num Replenishable Stock Views\n",
      "updatedValues ('Num Replenishable Stock Views', [\"'(-inf-0.5]'\", \"'(0.5-1.5]'\", \"'(1.5-2.5]'\", \"'(2.5-4.5]'\", \"'(4.5-inf)'\", 'FillNone'])\n",
      "attributeList Num Seasonal 1 Stock Views\n",
      "updatedValues ('Num Seasonal 1 Stock Views', [\"'(-inf-0.5]'\", \"'(0.5-1.5]'\", \"'(1.5-2.5]'\", \"'(2.5-3.5]'\", \"'(3.5-inf)'\", 'FillNone'])\n",
      "attributeList Num Seasonal 1* Stock Views\n",
      "updatedValues ('Num Seasonal 1* Stock Views', [\"'(-inf-0.5]'\", \"'(0.5-1.5]'\", \"'(1.5-2.5]'\", \"'(2.5-3.5]'\", \"'(3.5-inf)'\", 'FillNone'])\n",
      "attributeList Num Seasonal 2 Stock Views\n",
      "updatedValues ('Num Seasonal 2 Stock Views', [\"'(-inf-0.5]'\", \"'(0.5-1.5]'\", \"'(1.5-2.5]'\", \"'(2.5-3.5]'\", \"'(3.5-inf)'\", 'FillNone'])\n",
      "attributeList Num Replenishment Stock Views\n",
      "updatedValues ('Num Replenishment Stock Views', [\"'(-inf-0.5]'\", \"'(0.5-1.5]'\", \"'(1.5-2.5]'\", \"'(2.5-3.5]'\", \"'(3.5-inf)'\", 'FillNone'])\n",
      "attributeList Num Fashion 1 Stock Views\n",
      "updatedValues ('Num Fashion 1 Stock Views', [\"'(-inf-0.5]'\", \"'(0.5-1.5]'\", \"'(1.5-2.5]'\", \"'(2.5-3.5]'\", \"'(3.5-inf)'\", 'FillNone'])\n",
      "attributeList Num Tablets Product Views\n",
      "updatedValues ('Num Tablets Product Views', [\"'(-inf-0.5]'\", \"'(0.5-1.5]'\", \"'(1.5-3.5]'\", \"'(3.5-inf)'\", 'FillNone'])\n",
      "attributeList Num Stick Product Views\n",
      "updatedValues ('Num Stick Product Views', [\"'(-inf-0.5]'\", \"'(0.5-1.5]'\", \"'(1.5-inf)'\", 'FillNone'])\n",
      "attributeList Num Capsule Product Views\n",
      "updatedValues ('Num Capsule Product Views', [\"'(-inf-0.5]'\", \"'(0.5-1.5]'\", \"'(1.5-inf)'\", 'FillNone'])\n",
      "attributeList Num Lotion Product Views\n",
      "updatedValues ('Num Lotion Product Views', [\"'(-inf-0.5]'\", \"'(0.5-1.5]'\", \"'(1.5-inf)'\", 'FillNone'])\n",
      "attributeList Num Wax Product Views\n",
      "updatedValues ('Num Wax Product Views', [\"'(-inf-0.5]'\", \"'(0.5-2]'\", \"'(2-inf)'\", 'FillNone'])\n",
      "attributeList Num Gel Product Views\n",
      "updatedValues ('Num Gel Product Views', [\"'(-inf-0.5]'\", \"'(0.5-1.5]'\", \"'(1.5-inf)'\", 'FillNone'])\n",
      "attributeList Num Cream Product Views\n",
      "updatedValues ('Num Cream Product Views', [\"'(-inf-0.5]'\", \"'(0.5-1.5]'\", \"'(1.5-2.5]'\", \"'(2.5-4.5]'\", \"'(4.5-inf)'\", 'FillNone'])\n",
      "attributeList Num Liquid Product Views\n",
      "updatedValues ('Num Liquid Product Views', [\"'(-inf-0.5]'\", \"'(0.5-1.5]'\", \"'(1.5-6]'\", \"'(6-inf)'\", 'FillNone'])\n",
      "attributeList Num Opaque Look Product Views\n",
      "updatedValues ('Num Opaque Look Product Views', [\"'(-inf-0.5]'\", \"'(0.5-1.5]'\", \"'(1.5-2.5]'\", \"'(2.5-3.5]'\", \"'(3.5-inf)'\", 'FillNone'])\n",
      "attributeList Num Sheer Look Product Views\n",
      "updatedValues ('Num Sheer Look Product Views', [\"'(-inf-0.5]'\", \"'(0.5-1.5]'\", \"'(1.5-2.5]'\", \"'(2.5-4.5]'\", \"'(4.5-inf)'\", 'FillNone'])\n",
      "attributeList Num Ultra Sheer Look Product Views\n",
      "updatedValues ('Num Ultra Sheer Look Product Views', [\"'(-inf-0.5]'\", \"'(0.5-1.5]'\", \"'(1.5-2.5]'\", \"'(2.5-3.5]'\", \"'(3.5-inf)'\", 'FillNone'])\n",
      "attributeList Num Basic Product Views\n",
      "updatedValues ('Num Basic Product Views', [\"'(-inf-0.5]'\", \"'(0.5-1.5]'\", \"'(1.5-2.5]'\", \"'(2.5-4.5]'\", \"'(4.5-inf)'\", 'FillNone'])\n",
      "attributeList Num Fashion Product Views\n",
      "updatedValues ('Num Fashion Product Views', [\"'(-inf-0.5]'\", \"'(0.5-1.5]'\", \"'(1.5-2.5]'\", \"'(2.5-3.5]'\", \"'(3.5-inf)'\", 'FillNone'])\n",
      "attributeList Num HasDressingRoom True Views\n",
      "updatedValues ('Num HasDressingRoom True Views', [\"'(-inf-0.5]'\", \"'(0.5-1.5]'\", \"'(1.5-2.5]'\", \"'(2.5-4.5]'\", \"'(4.5-inf)'\", 'FillNone'])\n",
      "attributeList Num HasDressingRoom False Views\n",
      "updatedValues ('Num HasDressingRoom False Views', [\"'(-inf-0.5]'\", \"'(0.5-1.5]'\", \"'(1.5-2.5]'\", \"'(2.5-4.5]'\", \"'(4.5-inf)'\", 'FillNone'])\n",
      "attributeList Num Flat Product Views\n",
      "updatedValues ('Num Flat Product Views', [\"'(-inf-0.5]'\", \"'(0.5-1.5]'\", \"'(1.5-2.5]'\", \"'(2.5-3.5]'\", \"'(3.5-inf)'\", 'FillNone'])\n",
      "attributeList Num Textured Product Views\n",
      "updatedValues ('Num Textured Product Views', [\"'(-inf-0.5]'\", \"'(0.5-1.5]'\", \"'(1.5-2.5]'\", \"'(2.5-3.5]'\", \"'(3.5-inf)'\", 'FillNone'])\n",
      "attributeList Num Reinforced Toe Views\n",
      "updatedValues ('Num Reinforced Toe Views', [\"'(-inf-0.5]'\", \"'(0.5-1.5]'\", \"'(1.5-2.5]'\", \"'(2.5-3.5]'\", \"'(3.5-inf)'\", 'FillNone'])\n",
      "attributeList Num Sandal Foot Views\n",
      "updatedValues ('Num Sandal Foot Views', [\"'(-inf-0.5]'\", \"'(0.5-1.5]'\", \"'(1.5-2.5]'\", \"'(2.5-4.5]'\", \"'(4.5-inf)'\", 'FillNone'])\n",
      "attributeList Num PH Category Views\n",
      "updatedValues ('Num PH Category Views', [\"'(-inf-0.5]'\", \"'(0.5-1.5]'\", \"'(1.5-2.5]'\", \"'(2.5-4.5]'\", \"'(4.5-inf)'\", 'FillNone'])\n",
      "attributeList Num WDCS Category Views\n",
      "updatedValues ('Num WDCS Category Views', [\"'(-inf-0.5]'\", \"'(0.5-1.5]'\", \"'(1.5-2.5]'\", \"'(2.5-3.5]'\", \"'(3.5-inf)'\", 'FillNone'])\n",
      "attributeList Num TH Category Views\n",
      "updatedValues ('Num TH Category Views', [\"'(-inf-0.5]'\", \"'(0.5-1.5]'\", \"'(1.5-2.5]'\", \"'(2.5-3.5]'\", \"'(3.5-inf)'\", 'FillNone'])\n",
      "attributeList Num WAS Category Views\n",
      "updatedValues ('Num WAS Category Views', [\"'(-inf-0.5]'\", \"'(0.5-1.5]'\", \"'(1.5-2.5]'\", \"'(2.5-4.5]'\", \"'(4.5-inf)'\", 'FillNone'])\n",
      "attributeList Num FO Category Views\n",
      "updatedValues ('Num FO Category Views', [\"'(-inf-0.5]'\", \"'(0.5-1.5]'\", \"'(1.5-2.5]'\", \"'(2.5-3.5]'\", \"'(3.5-inf)'\", 'FillNone'])\n",
      "attributeList Num LG Category Views\n",
      "updatedValues ('Num LG Category Views', [\"'(-inf-0.5]'\", \"'(0.5-1.5]'\", \"'(1.5-2.5]'\", \"'(2.5-3.5]'\", \"'(3.5-inf)'\", 'FillNone'])\n",
      "attributeList Num TT Category Views\n",
      "updatedValues ('Num TT Category Views', [\"'(-inf-0.5]'\", \"'(0.5-1.5]'\", \"'(1.5-2.5]'\", \"'(2.5-4.5]'\", \"'(4.5-inf)'\", 'FillNone'])\n",
      "attributeList Num MDS Category Views\n",
      "updatedValues ('Num MDS Category Views', [\"'(-inf-0.5]'\", \"'(0.5-1.5]'\", \"'(1.5-2.5]'\", \"'(2.5-4.5]'\", \"'(4.5-inf)'\", 'FillNone'])\n",
      "attributeList Num MAS Category Views\n",
      "updatedValues ('Num MAS Category Views', [\"'(-inf-0.5]'\", \"'(0.5-1.5]'\", \"'(1.5-2.5]'\", \"'(2.5-3.5]'\", \"'(3.5-inf)'\", 'FillNone'])\n",
      "attributeList Num BKS Category Views\n",
      "updatedValues ('Num BKS Category Views', [\"'(-inf-0.5]'\", \"'(0.5-1.5]'\", \"'(1.5-2.5]'\", \"'(2.5-inf)'\", 'FillNone'])\n",
      "attributeList Num LEO Category Views\n",
      "updatedValues ('Num LEO Category Views', [\"'(-inf-0.5]'\", \"'(0.5-1.5]'\", \"'(1.5-2.5]'\", \"'(2.5-3.5]'\", \"'(3.5-inf)'\", 'FillNone'])\n",
      "attributeList Num GDCS Category Views\n",
      "updatedValues ('Num GDCS Category Views', [\"'(-inf-0.5]'\", \"'(0.5-1.5]'\", \"'(1.5-2.5]'\", \"'(2.5-3.5]'\", \"'(3.5-inf)'\", 'FillNone'])\n",
      "attributeList Num KP Category Views\n",
      "updatedValues ('Num KP Category Views', [\"'(-inf-0.5]'\", \"'(0.5-1.5]'\", \"'(1.5-2.5]'\", \"'(2.5-4.5]'\", \"'(4.5-inf)'\", 'FillNone'])\n",
      "attributeList Num BDCS Category Views\n",
      "updatedValues ('Num BDCS Category Views', [\"'(-inf-0.5]'\", \"'(0.5-1.5]'\", \"'(1.5-2.5]'\", \"'(2.5-5]'\", \"'(5-inf)'\", 'FillNone'])\n",
      "attributeList Num MCS Category Views\n",
      "updatedValues ('Num MCS Category Views', [\"'(-inf-0.5]'\", \"'(0.5-1.5]'\", \"'(1.5-2.5]'\", \"'(2.5-3.5]'\", \"'(3.5-inf)'\", 'FillNone'])\n",
      "attributeList Num CT Waist Control Views\n",
      "updatedValues ('Num CT Waist Control Views', [\"'(-inf-0.5]'\", \"'(0.5-1.5]'\", \"'(1.5-2.5]'\", \"'(2.5-4.5]'\", \"'(4.5-inf)'\", 'FillNone'])\n",
      "attributeList Num STW Waist Control Views\n",
      "updatedValues ('Num STW Waist Control Views', [\"'(-inf-0.5]'\", \"'(0.5-1.5]'\", \"'(1.5-2.5]'\", \"'(2.5-3.5]'\", \"'(3.5-inf)'\", 'FillNone'])\n",
      "attributeList Num Women Product Views\n",
      "updatedValues ('Num Women Product Views', [\"'(-inf-0.5]'\", \"'(0.5-1.5]'\", \"'(1.5-2.5]'\", \"'(2.5-4.5]'\", \"'(4.5-inf)'\", 'FillNone'])\n",
      "attributeList Num Men Product Views\n",
      "updatedValues ('Num Men Product Views', [\"'(-inf-0.5]'\", \"'(0.5-1.5]'\", \"'(1.5-2.5]'\", \"'(2.5-3.5]'\", \"'(3.5-inf)'\", 'FillNone'])\n",
      "attributeList Num Children Product Views\n",
      "updatedValues ('Num Children Product Views', [\"'(-inf-0.5]'\", \"'(0.5-1.5]'\", \"'(1.5-2.5]'\", \"'(2.5-3.5]'\", \"'(3.5-inf)'\", 'FillNone'])\n",
      "attributeList Session Last Request Day Of Week\n",
      "updatedValues ('Session Last Request Day Of Week', ['Thursday', 'Saturday', 'Tuesday', 'Sunday', 'Wednesday', 'Friday', 'Monday', 'FillNone'])\n",
      "attributeList Assortment Level 2 Path Last\n",
      "updatedValues ('Assortment Level 2 Path Last', ['/Assortments/Main/UniqueBoutiques', '/Assortments/Main/New', '/Assortments/Main/Brands', '/Assortments/Main/SaleAssortments', '/Assortments/Main/Welcome', '/Assortments/Main/BrandOrder', '/Assortments/Main/Departments', '/Assortments/Main/LifeStyles', '/Assortments/Main/Seasonal', 'NULL', 'FillNone'])\n",
      "attributeList Content Level 2 Path Last\n",
      "updatedValues ('Content Level 2 Path Last', ['/Content/templates/articles', '/Content/templates/include', '/Content/templates/Replenish', '/Content/templates/checkout', '/Content/templates/main', '/Content/templates/products', '/Content/templates/account', 'NULL', 'FillNone'])\n",
      "attributeList Session Last Request Hour Of Day\n",
      "updatedValues ('Session Last Request Hour Of Day', [\"'(-inf-6.5]'\", \"'(6.5-10.5]'\", \"'(10.5-14.5]'\", \"'(14.5-18.5]'\", \"'(18.5-inf)'\", 'FillNone'])\n",
      "attributeList Session Time Elapsed\n",
      "updatedValues ('Session Time Elapsed', [\"'(-inf-0.5]'\", \"'(0.5-48.5]'\", \"'(48.5-107.5]'\", \"'(107.5-263.5]'\", \"'(263.5-inf)'\", 'FillNone'])\n",
      "attributeList Session Browser Family Top 3\n",
      "updatedValues ('Session Browser Family Top 3', ['Netscape', 'AOL', 'Internet Explorer', 'Other', 'FillNone'])\n",
      "attributeList Session First Template Top 5\n",
      "updatedValues ('Session First Template Top 5', ['main/departments_jhtml', 'main/vendor_jhtml', 'main/boutique_jhtml', 'products/productDetailLegwear_jhtml', 'main/home_jhtml', 'Other', 'FillNone'])\n",
      "attributeList Session Last Template Top 5\n",
      "updatedValues ('Session Last Template Top 5', ['main/departments_jhtml', 'main/vendor_jhtml', 'main/boutique_jhtml', 'products/productDetailLegwear_jhtml', 'main/home_jhtml', 'Other', 'FillNone'])\n",
      "attributeList Session First Referrer Top 5\n",
      "updatedValues ('Session First Referrer Top 5', ['http_//www_mycoupons_com', 'http_//www_fashionmall_com', 'http_//www_gazelle_com', 'http_//stores_shopnow_com', 'http_//www_winnie-cooper_com', 'Other', 'FillNone'])\n",
      "attributeList Session First Request Hour of Day Bin\n",
      "updatedValues ('Session First Request Hour of Day Bin', ['(___ 5]', '(5 ___ 9]', '(9 ___ 12]', '(12 ___ 14]', '(14 ___ 17]', '(17 ___ 22]', '(22 ___)', 'FillNone'])\n",
      "attributeList Class\n",
      "updatedValues ('Class', ['True', 'False', 'FillNone'])\n"
     ]
    }
   ],
   "source": [
    "for i in range(len(attributeList)):\n",
    "    print(\"attributeList\",attributeList[i])\n",
    "    print(\"updatedValues\",updatedVlaues[i])\n",
    "#a1= 'Session Request Count'\n",
    "#dataset[a1].value_counts()    "
   ]
  },
  {
   "cell_type": "code",
   "execution_count": 15,
   "metadata": {},
   "outputs": [
    {
     "data": {
      "text/plain": [
       "1    32193\n",
       "0     7807\n",
       "Name: Class, dtype: int64"
      ]
     },
     "execution_count": 15,
     "metadata": {},
     "output_type": "execute_result"
    }
   ],
   "source": [
    "a1= 'Class'\n",
    "dataset[a1].value_counts()\n",
    "#attributeList[-1]\n",
    "#dataset[]"
   ]
  },
  {
   "cell_type": "code",
   "execution_count": 16,
   "metadata": {},
   "outputs": [],
   "source": [
    "def SeperateOutput (dataset):\n",
    "    outputCol = 'Class'\n",
    "    Y = dataset[outputCol]\n",
    "    dataset = dataset.drop(outputCol, axis = 1)\n",
    "    return dataset,Y"
   ]
  },
  {
   "cell_type": "code",
   "execution_count": 17,
   "metadata": {},
   "outputs": [],
   "source": [
    "def handleMissingCol(dataset,dataSetTest):\n",
    "    trainingColumn = dataset.columns\n",
    "    testingColumn = dataSetTest.columns\n",
    "    missingCol = (list(set(trainingColumn) - set(testingColumn)))\n",
    "    for c in missingCol:\n",
    "        dataSetTest[c] = 0\n",
    "    dataSetTest = dataSetTest[trainingColumn]\n",
    "    return dataSetTest\n",
    "    #for i in updatedList: \n",
    "    #s = updatedDataset[i].value_counts()\n",
    "    #if('NULL' in s.index ):\n",
    "    #   print(i)"
   ]
  },
  {
   "cell_type": "code",
   "execution_count": 18,
   "metadata": {},
   "outputs": [],
   "source": [
    "dataset,Y = SeperateOutput(dataset)"
   ]
  },
  {
   "cell_type": "code",
   "execution_count": 19,
   "metadata": {},
   "outputs": [],
   "source": [
    "dataSetTest,yTest = SeperateOutput(datasetTesting)"
   ]
  },
  {
   "cell_type": "code",
   "execution_count": 20,
   "metadata": {},
   "outputs": [],
   "source": [
    "dataSetTest = handleMissingCol(dataset,dataSetTest)"
   ]
  },
  {
   "cell_type": "code",
   "execution_count": 48,
   "metadata": {
    "scrolled": true
   },
   "outputs": [],
   "source": [
    "dataset=(dataset-dataset.mean())/dataset.std()\n",
    "dataSetTest=(dataSetTest-dataSetTest.mean())/dataSetTest.std()"
   ]
  },
  {
   "cell_type": "code",
   "execution_count": 21,
   "metadata": {},
   "outputs": [],
   "source": [
    "def plot(iteration,accuracy,accuracyTest):\n",
    "    pt.figure(figsize = (5,5))\n",
    "    pt.plot(iteration,accuracy,label = \"Training\")\n",
    "    pt.plot(iteration,accuracyTest,label = \"Testing\")\n",
    "    #pt.xticks(np.arange(1, 20, step=1))\n",
    "    pt.xlabel('iteration')\n",
    "    pt.ylabel(\"accuracy\")\n",
    "    pt.legend()\n",
    "    pt.show()"
   ]
  },
  {
   "cell_type": "code",
   "execution_count": 22,
   "metadata": {},
   "outputs": [],
   "source": [
    "def accuracy(ypredict,yoriginal):\n",
    "    diff = ypredict == yoriginal\n",
    "    return np.sum(diff)/len(ypredict)"
   ]
  },
  {
   "cell_type": "code",
   "execution_count": 50,
   "metadata": {
    "scrolled": true
   },
   "outputs": [],
   "source": [
    "dataSetTest['Session ID'] = 0\n",
    "dataSetTest['Num Wax Product Views'] = 0\n",
    "dataSetTest['ContentLevel2PathLast_/Content/templates/include'] = 0\n",
    "dataSetTest['AssortmentLevel2PathLast_/Assortments/Main/Seasonal'] = 0\n",
    "for i in dataSetTest.columns:\n",
    "    xy = dataSetTest[i].count()\n",
    "    if (xy < 25000):\n",
    "        print (i)\n",
    "#print(dataSetTest['Num Wax Product Views'])"
   ]
  },
  {
   "cell_type": "code",
   "execution_count": 24,
   "metadata": {
    "scrolled": true
   },
   "outputs": [
    {
     "name": "stdout",
     "output_type": "stream",
     "text": [
      "[5, 6, 7, 8, 9, 10, 11, 12, 13, 14, 15, 16, 17, 18, 19]\n",
      "[0.803275, 0.802425, 0.798825, 0.795825, 0.7365999999999999, 0.7367250000000001, 0.7347, 0.7270749999999999, 0.723, 0.7221, 0.72, 0.7147249999999999, 0.709, 0.70325, 0.69665]\n",
      "[0.74836, 0.74536, 0.74552, 0.74316, 0.7372, 0.73264, 0.733, 0.71596, 0.72212, 0.7156, 0.70804, 0.69708, 0.69644, 0.69376, 0.69504]\n"
     ]
    }
   ],
   "source": [
    "iteration = []\n",
    "accuracyTrain = []\n",
    "accuracyTest = []\n",
    "for i in range(5,20):\n",
    "    kf = KFold(n_splits=5)\n",
    "    foldAccuracy = []\n",
    "    modelList =[]\n",
    "    model = DecisionTreeClassifier(criterion = 'entropy',max_depth = i)\n",
    "    for train_index, test_index in kf.split(dataset):\n",
    "        #print(\"TRAIN:\", train_index, \"TEST:\", test_index)\n",
    "        datasetTrain, datasetValidate = dataset.iloc[train_index], dataset.iloc[test_index]\n",
    "        yTrain, yValidate = Y.iloc[train_index], Y.iloc[test_index]\n",
    "\n",
    "        model.fit(datasetTrain,yTrain)\n",
    "        foldAccuracy.append(model.score(datasetValidate,yValidate))\n",
    "        modelList.append(model)\n",
    "    #print('depth ',i)\n",
    "    #print('foldAccuract',foldAccuracy)\n",
    "    iteration.append(i)\n",
    "    modelPos = np.argmax(foldAccuracy)\n",
    "    accuracyTrain.append(np.mean(foldAccuracy))\n",
    "    prediction = modelList[modelPos].predict(dataSetTest)\n",
    "    #prediction = modelList[modelPos].score(dataSetTest,yTest)\n",
    "    #accuracyTest.append(prediction)\n",
    "    #print(prediction)\n",
    "    accuracyTest.append(accuracy(prediction,yTest))\n",
    "#plot(iteration,accuracyTrain)\n",
    "print(iteration)\n",
    "print(accuracyTrain)\n",
    "print(accuracyTest)"
   ]
  },
  {
   "cell_type": "code",
   "execution_count": 164,
   "metadata": {
    "scrolled": true
   },
   "outputs": [
    {
     "data": {
      "image/png": "[encoded data removed]",
      "text/plain": [
       "<Figure size 360x360 with 1 Axes>"
      ]
     },
     "metadata": {
      "needs_background": "light"
     },
     "output_type": "display_data"
    }
   ],
   "source": [
    "plot(iteration,accuracyTrain,accuracyTest)"
   ]
  },
  {
   "cell_type": "code",
   "execution_count": 51,
   "metadata": {},
   "outputs": [],
   "source": [
    "pca = PCA(n_components=2)\n",
    "principalComponents = pca.fit_transform(dataset)\n",
    "principalDf = pd.DataFrame(data = principalComponents,columns = ['principal component 1', 'principal component 2'])"
   ]
  },
  {
   "cell_type": "code",
   "execution_count": 79,
   "metadata": {},
   "outputs": [
    {
     "data": {
      "text/plain": [
       "(10, 2)"
      ]
     },
     "execution_count": 79,
     "metadata": {},
     "output_type": "execute_result"
    }
   ],
   "source": [
    "principalDfsmall = principalDf.iloc[0:10]\n",
    "principalDfsmall.shape"
   ]
  },
  {
   "cell_type": "code",
   "execution_count": 52,
   "metadata": {},
   "outputs": [
    {
     "data": {
      "image/png": "[encoded data removed]",
      "text/plain": [
       "<Figure size 576x576 with 1 Axes>"
      ]
     },
     "metadata": {
      "needs_background": "light"
     },
     "output_type": "display_data"
    }
   ],
   "source": [
    "fig = pt.figure(figsize = (8,8))\n",
    "ax = fig.add_subplot(1,1,1) \n",
    "ax.set_xlabel('Principal Component 1', fontsize = 15)\n",
    "ax.set_ylabel('Principal Component 2', fontsize = 15)\n",
    "ax.set_title('2 component PCA', fontsize = 20)\n",
    "targets = [0, 1]\n",
    "colors = ['r','b']\n",
    "for target, color in zip(targets,colors):\n",
    "    indicesToKeep = Y[:] == target\n",
    "    #print(indicesToKeep)\n",
    "    ax.scatter(principalDf.loc[indicesToKeep, 'principal component 1']\n",
    "               , principalDf.loc[indicesToKeep, 'principal component 2']\n",
    "               , c = color\n",
    "               , s = 10)\n",
    "ax.legend(targets)\n",
    "ax.grid()    \n",
    "# pt.figure(figsize = (5,5))\n",
    "# pt.scatter(principalDf.iloc[:,0],principalDf.iloc[:,1],Y, cmap='Paired_r')\n",
    "# pt.xlabel('principal component 1')\n",
    "# pt.ylabel('principal component 2')\n",
    "# pt.legend()\n",
    "# pt.show()"
   ]
  },
  {
   "cell_type": "markdown",
   "metadata": {},
   "source": [
    "# Now Training For PCA Decision Tree"
   ]
  },
  {
   "cell_type": "code",
   "execution_count": 62,
   "metadata": {},
   "outputs": [],
   "source": [
    "finalDf = pd.concat([principalDf, Y], axis = 1)"
   ]
  },
  {
   "cell_type": "code",
   "execution_count": 84,
   "metadata": {},
   "outputs": [],
   "source": [
    "finalDf = pd.concat([principalDfsmall, Y[0:10]], axis = 1)"
   ]
  },
  {
   "cell_type": "code",
   "execution_count": 85,
   "metadata": {},
   "outputs": [
    {
     "data": {
      "text/html": [
       "<div>\n",
       "<style scoped>\n",
       "    .dataframe tbody tr th:only-of-type {\n",
       "        vertical-align: middle;\n",
       "    }\n",
       "\n",
       "    .dataframe tbody tr th {\n",
       "        vertical-align: top;\n",
       "    }\n",
       "\n",
       "    .dataframe thead th {\n",
       "        text-align: right;\n",
       "    }\n",
       "</style>\n",
       "<table border=\"1\" class=\"dataframe\">\n",
       "  <thead>\n",
       "    <tr style=\"text-align: right;\">\n",
       "      <th></th>\n",
       "      <th>principal component 1</th>\n",
       "      <th>principal component 2</th>\n",
       "      <th>Class</th>\n",
       "    </tr>\n",
       "  </thead>\n",
       "  <tbody>\n",
       "    <tr>\n",
       "      <th>0</th>\n",
       "      <td>0.388527</td>\n",
       "      <td>-1.691366</td>\n",
       "      <td>1</td>\n",
       "    </tr>\n",
       "    <tr>\n",
       "      <th>1</th>\n",
       "      <td>36.047291</td>\n",
       "      <td>5.006160</td>\n",
       "      <td>0</td>\n",
       "    </tr>\n",
       "    <tr>\n",
       "      <th>2</th>\n",
       "      <td>23.030074</td>\n",
       "      <td>4.702673</td>\n",
       "      <td>1</td>\n",
       "    </tr>\n",
       "    <tr>\n",
       "      <th>3</th>\n",
       "      <td>2.224411</td>\n",
       "      <td>-5.291511</td>\n",
       "      <td>0</td>\n",
       "    </tr>\n",
       "    <tr>\n",
       "      <th>4</th>\n",
       "      <td>32.355831</td>\n",
       "      <td>5.347708</td>\n",
       "      <td>1</td>\n",
       "    </tr>\n",
       "    <tr>\n",
       "      <th>5</th>\n",
       "      <td>-1.427067</td>\n",
       "      <td>0.645331</td>\n",
       "      <td>1</td>\n",
       "    </tr>\n",
       "    <tr>\n",
       "      <th>6</th>\n",
       "      <td>-1.430191</td>\n",
       "      <td>0.626512</td>\n",
       "      <td>1</td>\n",
       "    </tr>\n",
       "    <tr>\n",
       "      <th>7</th>\n",
       "      <td>11.419924</td>\n",
       "      <td>-5.732443</td>\n",
       "      <td>0</td>\n",
       "    </tr>\n",
       "    <tr>\n",
       "      <th>8</th>\n",
       "      <td>-1.365545</td>\n",
       "      <td>0.481287</td>\n",
       "      <td>1</td>\n",
       "    </tr>\n",
       "    <tr>\n",
       "      <th>9</th>\n",
       "      <td>1.271961</td>\n",
       "      <td>-4.314669</td>\n",
       "      <td>0</td>\n",
       "    </tr>\n",
       "  </tbody>\n",
       "</table>\n",
       "</div>"
      ],
      "text/plain": [
       "   principal component 1  principal component 2  Class\n",
       "0               0.388527              -1.691366      1\n",
       "1              36.047291               5.006160      0\n",
       "2              23.030074               4.702673      1\n",
       "3               2.224411              -5.291511      0\n",
       "4              32.355831               5.347708      1\n",
       "5              -1.427067               0.645331      1\n",
       "6              -1.430191               0.626512      1\n",
       "7              11.419924              -5.732443      0\n",
       "8              -1.365545               0.481287      1\n",
       "9               1.271961              -4.314669      0"
      ]
     },
     "execution_count": 85,
     "metadata": {},
     "output_type": "execute_result"
    }
   ],
   "source": [
    "finalDf"
   ]
  },
  {
   "cell_type": "code",
   "execution_count": 189,
   "metadata": {},
   "outputs": [],
   "source": [
    "# Now trying to resample the data so that all our class are equally balanced\n",
    "principalDf.shape\n",
    "Y.shape\n",
    "#finalDf = pd.concat([principalDf, Y], axis = 1)\n",
    "count1,count0 = finalDf.iloc[:,2].value_counts()"
   ]
  },
  {
   "cell_type": "code",
   "execution_count": 196,
   "metadata": {},
   "outputs": [],
   "source": [
    "# Trying to under sample\n",
    "df_class_0 = finalDf[finalDf['Class'] == 0]\n",
    "df_class_1 = finalDf[finalDf['Class'] == 1]"
   ]
  },
  {
   "cell_type": "code",
   "execution_count": 199,
   "metadata": {},
   "outputs": [
    {
     "name": "stdout",
     "output_type": "stream",
     "text": [
      "(7807, 3)\n",
      "(32193, 3)\n"
     ]
    },
    {
     "data": {
      "text/plain": [
       "7807"
      ]
     },
     "execution_count": 199,
     "metadata": {},
     "output_type": "execute_result"
    }
   ],
   "source": [
    "print(df_class_0.shape)\n",
    "print(df_class_1.shape)\n",
    "count0"
   ]
  },
  {
   "cell_type": "code",
   "execution_count": 200,
   "metadata": {},
   "outputs": [],
   "source": [
    "df_class_1_under = df_class_1.sample(count0)\n",
    "df_test_under = pd.concat([df_class_1_under, df_class_0], axis=0)"
   ]
  },
  {
   "cell_type": "code",
   "execution_count": 234,
   "metadata": {},
   "outputs": [
    {
     "data": {
      "text/plain": [
       "(64386, 3)"
      ]
     },
     "execution_count": 234,
     "metadata": {},
     "output_type": "execute_result"
    }
   ],
   "source": [
    "df_class_0_over = df_class_0.sample(count1, replace=True)\n",
    "df_test_over = pd.concat([df_class_1, df_class_0_over], axis=0)\n",
    "df_test_over.shape"
   ]
  },
  {
   "cell_type": "code",
   "execution_count": 86,
   "metadata": {},
   "outputs": [
    {
     "data": {
      "text/plain": [
       "DecisionTreeClassifier(class_weight=None, criterion='entropy', max_depth=6,\n",
       "            max_features=None, max_leaf_nodes=None,\n",
       "            min_impurity_decrease=0.0, min_impurity_split=None,\n",
       "            min_samples_leaf=1, min_samples_split=2,\n",
       "            min_weight_fraction_leaf=0.0, presort=False, random_state=None,\n",
       "            splitter='best')"
      ]
     },
     "execution_count": 86,
     "metadata": {},
     "output_type": "execute_result"
    }
   ],
   "source": [
    "model = DecisionTreeClassifier(criterion = 'entropy',max_depth =6)\n",
    "#model.fit(df_test_under.iloc[:,0:2],df_test_under.iloc[:,2])\n",
    "#model.fit(df_test_over.iloc[:,0:2],df_test_over.iloc[:,2])\n",
    "model.fit(finalDf.iloc[:,0:2],finalDf.iloc[:,2])"
   ]
  },
  {
   "cell_type": "code",
   "execution_count": 87,
   "metadata": {},
   "outputs": [
    {
     "data": {
      "text/plain": [
       "1.0"
      ]
     },
     "execution_count": 87,
     "metadata": {},
     "output_type": "execute_result"
    }
   ],
   "source": [
    "#model.score(df_test_under.iloc[:,0:2],df_test_under.iloc[:,2])\n",
    "model.score(finalDf.iloc[:,0:2],finalDf.iloc[:,2])"
   ]
  },
  {
   "cell_type": "code",
   "execution_count": 65,
   "metadata": {},
   "outputs": [],
   "source": [
    "def plot_decision_boundary(clf, X, Y, cmap='Paired_r'):\n",
    "    h = .02\n",
    "    x_min, x_max = X.iloc[:,0].min() - 10*h, X.iloc[:,0].max() + 10*h\n",
    "    y_min, y_max = X.iloc[:,1].min() - 10*h, X.iloc[:,1].max() + 10*h\n",
    "    xx, yy = np.meshgrid(np.arange(x_min, x_max, h),\n",
    "                         np.arange(y_min, y_max, h))\n",
    "    ##print(xx)\n",
    "    #print(yy)\n",
    "    Z = clf.predict(np.c_[xx.ravel(), yy.ravel()])\n",
    "    Z = Z.reshape(xx.shape)\n",
    "\n",
    "    pt.figure(figsize=(8,8))\n",
    "    pt.contourf(xx, yy, Z,cmap=cmap,  alpha=0.25) \n",
    "    pt.contour(xx, yy, Z, colors='k', linewidths=0.7)\n",
    "    pt.scatter(X.iloc[:,0], X.iloc[:,1], c=Y); #, edgecolors='k'"
   ]
  },
  {
   "cell_type": "code",
   "execution_count": 88,
   "metadata": {
    "scrolled": true
   },
   "outputs": [
    {
     "data": {
      "image/png": "[encoded data removed]",
      "text/plain": [
       "<Figure size 576x576 with 1 Axes>"
      ]
     },
     "metadata": {
      "needs_background": "light"
     },
     "output_type": "display_data"
    }
   ],
   "source": [
    "#plot_decision_boundary(model,df_test_under.iloc[:,0:2],df_test_under.iloc[:,2])\n",
    "#plot_decision_boundary(model,df_test_over.iloc[:,0:2],df_test_over.iloc[:,2])\n",
    "plot_decision_boundary(model,finalDf.iloc[:,0:2],finalDf.iloc[:,2])"
   ]
  },
  {
   "cell_type": "code",
   "execution_count": 206,
   "metadata": {},
   "outputs": [
    {
     "data": {
      "text/plain": [
       "1    7807\n",
       "0    7807\n",
       "Name: Class, dtype: int64"
      ]
     },
     "execution_count": 206,
     "metadata": {},
     "output_type": "execute_result"
    }
   ],
   "source": [
    "df_test_under.iloc[:,2].value_counts()"
   ]
  },
  {
   "cell_type": "code",
   "execution_count": 89,
   "metadata": {},
   "outputs": [
    {
     "data": {
      "text/plain": [
       "KNeighborsClassifier(algorithm='auto', leaf_size=30, metric='minkowski',\n",
       "           metric_params=None, n_jobs=None, n_neighbors=5, p=2,\n",
       "           weights='uniform')"
      ]
     },
     "execution_count": 89,
     "metadata": {},
     "output_type": "execute_result"
    }
   ],
   "source": [
    "model1 = KNeighborsClassifier(n_neighbors=5)\n",
    "#model1.fit(df_test_under.iloc[:,0:2],df_test_under.iloc[:,2])\n",
    "model1.fit(finalDf.iloc[:,0:2],finalDf.iloc[:,2])"
   ]
  },
  {
   "cell_type": "code",
   "execution_count": 90,
   "metadata": {},
   "outputs": [
    {
     "data": {
      "text/plain": [
       "0.6"
      ]
     },
     "execution_count": 90,
     "metadata": {},
     "output_type": "execute_result"
    }
   ],
   "source": [
    "#model1.score(df_test_under.iloc[:,0:2],df_test_under.iloc[:,2])\n",
    "model1.score(finalDf.iloc[:,0:2],finalDf.iloc[:,2])\n"
   ]
  },
  {
   "cell_type": "code",
   "execution_count": 91,
   "metadata": {},
   "outputs": [
    {
     "data": {
      "image/png": "[encoded data removed]",
      "text/plain": [
       "<Figure size 576x576 with 1 Axes>"
      ]
     },
     "metadata": {
      "needs_background": "light"
     },
     "output_type": "display_data"
    }
   ],
   "source": [
    "#plot_decision_boundary(model1,df_test_under.iloc[:,0:2],df_test_under.iloc[:,2])\n",
    "plot_decision_boundary(model1,finalDf.iloc[:,0:2],finalDf.iloc[:,2])\n"
   ]
  },
  {
   "cell_type": "code",
   "execution_count": 92,
   "metadata": {},
   "outputs": [
    {
     "data": {
      "text/plain": [
       "GaussianNB(priors=None, var_smoothing=1e-09)"
      ]
     },
     "execution_count": 92,
     "metadata": {},
     "output_type": "execute_result"
    }
   ],
   "source": [
    "gnb = GaussianNB()\n",
    "#gnb.fit(df_test_under.iloc[:,0:2],df_test_under.iloc[:,2])\n",
    "gnb.fit(finalDf.iloc[:,0:2],finalDf.iloc[:,2])"
   ]
  },
  {
   "cell_type": "code",
   "execution_count": 93,
   "metadata": {},
   "outputs": [
    {
     "data": {
      "text/plain": [
       "0.9"
      ]
     },
     "execution_count": 93,
     "metadata": {},
     "output_type": "execute_result"
    }
   ],
   "source": [
    "#gnb.score(df_test_under.iloc[:,0:2],df_test_under.iloc[:,2])\n",
    "gnb.score(finalDf.iloc[:,0:2],finalDf.iloc[:,2])\n"
   ]
  },
  {
   "cell_type": "code",
   "execution_count": 94,
   "metadata": {},
   "outputs": [
    {
     "data": {
      "image/png": "[encoded data removed]",
      "text/plain": [
       "<Figure size 576x576 with 1 Axes>"
      ]
     },
     "metadata": {
      "needs_background": "light"
     },
     "output_type": "display_data"
    }
   ],
   "source": [
    "#plot_decision_boundary(gnb,df_test_under.iloc[:,0:2],df_test_under.iloc[:,2])\n",
    "plot_decision_boundary(gnb,finalDf.iloc[:,0:2],finalDf.iloc[:,2])"
   ]
  },
  {
   "cell_type": "code",
   "execution_count": null,
   "metadata": {},
   "outputs": [],
   "source": []
  }
 ],
 "metadata": {
  "kernelspec": {
   "display_name": "Python 3",
   "language": "python",
   "name": "python3"
  },
  "language_info": {
   "codemirror_mode": {
    "name": "ipython",
    "version": 3
   },
   "file_extension": ".py",
   "mimetype": "text/x-python",
   "name": "python",
   "nbconvert_exporter": "python",
   "pygments_lexer": "ipython3",
   "version": "3.7.3"
  }
 },
 "nbformat": 4,
 "nbformat_minor": 2
}
