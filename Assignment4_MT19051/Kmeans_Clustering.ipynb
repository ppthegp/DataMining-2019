{
 "cells": [
  {
   "cell_type": "code",
   "execution_count": 2,
   "metadata": {},
   "outputs": [],
   "source": [
    "import pandas as pd\n",
    "import numpy as np\n",
    "import copy as copy\n",
    "import time as time\n",
    "import random\n",
    "from tqdm import tqdm_notebook as tqdm\n",
    "import matplotlib.pyplot as pt\n",
    "from sklearn.cluster import KMeans\n",
    "from sklearn.preprocessing import normalize\n",
    "from sklearn.metrics.pairwise import cosine_similarity"
   ]
  },
  {
   "cell_type": "markdown",
   "metadata": {},
   "source": [
    "# Loading Data"
   ]
  },
  {
   "cell_type": "code",
   "execution_count": 5,
   "metadata": {},
   "outputs": [],
   "source": [
    "def getData():\n",
    "    basepath = 'clustering-data/'\n",
    "    fileName = ['animals','countries','fruits','veggies']\n",
    "    xData = pd.DataFrame()\n",
    "    for i in range(len(fileName)):\n",
    "        dataTemp = pd.read_csv(basepath + fileName[i],sep = \" \",header = None)\n",
    "        label = [i] * (len(dataTemp))\n",
    "        dataTemp['label'] = label\n",
    "        if len(xData) == 0:\n",
    "            xData = dataTemp\n",
    "        else:\n",
    "            xData = pd.concat([xData,dataTemp])\n",
    "    xData = xData.iloc[:,1:]\n",
    "    return xData"
   ]
  },
  {
   "cell_type": "code",
   "execution_count": 6,
   "metadata": {},
   "outputs": [
    {
     "data": {
      "text/plain": [
       "(329, 301)"
      ]
     },
     "execution_count": 6,
     "metadata": {},
     "output_type": "execute_result"
    }
   ],
   "source": [
    "xData  = getData()\n",
    "xData.shape"
   ]
  },
  {
   "cell_type": "markdown",
   "metadata": {},
   "source": [
    "# Data Preprocessing"
   ]
  },
  {
   "cell_type": "code",
   "execution_count": 7,
   "metadata": {},
   "outputs": [],
   "source": [
    "xData = xData.sample(frac=1).reset_index(drop=True)"
   ]
  },
  {
   "cell_type": "code",
   "execution_count": 8,
   "metadata": {},
   "outputs": [],
   "source": [
    "yLabel = xData.iloc[:,-1]\n",
    "xData = xData.iloc[:,:-1]"
   ]
  },
  {
   "cell_type": "code",
   "execution_count": 9,
   "metadata": {},
   "outputs": [],
   "source": [
    "def normalizeMinMax(xData):\n",
    "    xData = (xData - xData.mean())/xData.std()\n",
    "    print(xData.describe())\n",
    "    return xData"
   ]
  },
  {
   "cell_type": "code",
   "execution_count": 7,
   "metadata": {},
   "outputs": [],
   "source": [
    "def normalizeUnitNorm(xData):\n",
    "    return normalize(xData, norm='l2')"
   ]
  },
  {
   "cell_type": "code",
   "execution_count": 166,
   "metadata": {},
   "outputs": [],
   "source": [
    "xData = normalizeUnitNorm(xData)\n",
    "#xData.describe()"
   ]
  },
  {
   "cell_type": "markdown",
   "metadata": {},
   "source": [
    "# kMeans Methods"
   ]
  },
  {
   "cell_type": "code",
   "execution_count": 8,
   "metadata": {},
   "outputs": [],
   "source": [
    "# kmeans = KMeans(n_clusters=4,n_init  = 20, random_state=0,n_jobs = 4) #init = 'k-means++'\n",
    "# kmeans.fit(xData)\n",
    "# print(kmeans.labels_)\n",
    "# print(kmeans.n_iter_)\n",
    "# print(kmeans.inertia_)"
   ]
  },
  {
   "cell_type": "code",
   "execution_count": 9,
   "metadata": {},
   "outputs": [],
   "source": [
    "# xData = np.array([2, 4, 10, 12, 3, 20, 30, 11, 25])\n",
    "# xData = xData.reshape(9,1)\n",
    "# xData"
   ]
  },
  {
   "cell_type": "code",
   "execution_count": 10,
   "metadata": {},
   "outputs": [],
   "source": [
    "xData = xData.to_numpy()"
   ]
  },
  {
   "cell_type": "code",
   "execution_count": 11,
   "metadata": {},
   "outputs": [],
   "source": [
    "def selectCentroid(dataPoint,k):\n",
    "    randPos = list(np.random.randint(dataPoint.shape[0], size=k))\n",
    "    return dataPoint[ randPos , :]"
   ]
  },
  {
   "cell_type": "code",
   "execution_count": 12,
   "metadata": {},
   "outputs": [],
   "source": [
    "def EquiledianDistance(centroid,dataPoint):\n",
    "    return np.sqrt(np.sum(np.square(centroid[:,np.newaxis,:] - dataPoint), axis=2))"
   ]
  },
  {
   "cell_type": "code",
   "execution_count": 13,
   "metadata": {},
   "outputs": [],
   "source": [
    "def ManhattenDistance(centroid,dataPoint):\n",
    "    return (np.sum(np.absolute(centroid[:,np.newaxis,:] - dataPoint), axis=2))"
   ]
  },
  {
   "cell_type": "code",
   "execution_count": 14,
   "metadata": {},
   "outputs": [],
   "source": [
    "def CosineSimilarity(centroid,dataPoint):\n",
    "    print(type(centroid))\n",
    "    print(type(dataPoint))\n",
    "    temp = cosine_similarity(centroid,dataPoint)\n",
    "    print(temp)\n",
    "    return temp"
   ]
  },
  {
   "cell_type": "code",
   "execution_count": 15,
   "metadata": {},
   "outputs": [],
   "source": [
    "def assignLabel(distanceMatrix):\n",
    "    return np.argmin(distanceMatrix.T, axis=1) , np.min(distanceMatrix.T, axis=1)"
   ]
  },
  {
   "cell_type": "code",
   "execution_count": 16,
   "metadata": {},
   "outputs": [],
   "source": [
    "def newCentroid(xData,clusterLabel,k,SSEList,distanceType):\n",
    "    centroid  = [] \n",
    "    #print(clusterLabel)\n",
    "    for i in range(k):\n",
    "        pos = np.where(clusterLabel == i)[0]\n",
    "        \n",
    "        filteredData = xData[pos,:]\n",
    "#         if(len(filteredData) == 0):\n",
    "#             print(len(filteredData))\n",
    "#             print(np.mean(filteredData, axis = 0))\n",
    "#             d = np.isnan(np.mean(filteredData, axis = 0))\n",
    "#             print(any(d))\n",
    "        if distanceType == 2:\n",
    "            centroid.append(np.median(filteredData, axis = 0))\n",
    "        else:\n",
    "            centroid.append(np.mean(filteredData, axis = 0))\n",
    "    \n",
    "    for i in range(k):\n",
    "        #print(centroid[i])\n",
    "        if any(np.isnan(centroid[i])):\n",
    "            maxSSE = np.argmax(SSEList)\n",
    "            pos = np.where(clusterLabel == maxSSE)[0]\n",
    "            pos = random.choice(pos)\n",
    "            centroid[i] = xData[pos,:]\n",
    "    #print(centroid)\n",
    "    return np.array(centroid)"
   ]
  },
  {
   "cell_type": "code",
   "execution_count": 17,
   "metadata": {},
   "outputs": [],
   "source": [
    "def computeSSE(MinDistance,clusterLabel):\n",
    "    SSEList = np.bincount(clusterLabel, weights=(MinDistance ** 2))\n",
    "    return np.sum(MinDistance **2),SSEList"
   ]
  },
  {
   "cell_type": "code",
   "execution_count": 18,
   "metadata": {},
   "outputs": [],
   "source": [
    "#NotUsed Anywhere\n",
    "def giveCorrectLabel(k,distanceMatrix,clusterLabel,yLabel):\n",
    "    actualLabel = np.zeros(len(yLabel),order ='F')\n",
    "    for i in range(k):\n",
    "        minPoint = np.argmin(distanceMatrix[i,:], axis=0)\n",
    "        print(minPoint)\n",
    "        ActualLabelCluster = yLabel[minPoint]\n",
    "        pos = np.where(clusterLabel == i)[0]\n",
    "        actualLabel[pos] = ActualLabelCluster\n",
    "    return actualLabel"
   ]
  },
  {
   "cell_type": "code",
   "execution_count": 19,
   "metadata": {},
   "outputs": [],
   "source": [
    "def nC2(n):\n",
    "    return n*(n-1)/2"
   ]
  },
  {
   "cell_type": "code",
   "execution_count": 20,
   "metadata": {},
   "outputs": [],
   "source": [
    "def calculateMeasure(clusterLabelCount,k,LabelC):\n",
    "    horizontalSum = np.sum(clusterLabelCount,axis = 1)\n",
    "    TPFP = np.sum(list(map(nC2,horizontalSum)))\n",
    "    TP = 0\n",
    "    for i in range(k):\n",
    "        TP += np.sum(list(map(nC2,clusterLabelCount[i,:])))\n",
    "    \n",
    "    arry =np.ones(LabelC)\n",
    "    #np.place(clusterLabelCount, clusterLabelCount == 0, [1])\n",
    "    #print(clusterLabelCount)\n",
    "    for i in range(LabelC):\n",
    "        labelDistibution = (clusterLabelCount[:,i])\n",
    "        FNinter = 0\n",
    "        for j in range(len(labelDistibution)):\n",
    "            FNinter += (labelDistibution[j] * np.sum(labelDistibution[j+1:]))\n",
    "        arry[i] =FNinter\n",
    "    #print(arry)    \n",
    "    FN = np.sum(arry)\n",
    "    #print(TPFP,TP,FN)\n",
    "    return TPFP,TP,FN"
   ]
  },
  {
   "cell_type": "code",
   "execution_count": 21,
   "metadata": {},
   "outputs": [],
   "source": [
    "def getClusterLabelCount(labels,k,yLabel,clusterLabel):\n",
    "    clustercount = np.zeros((k,labels))\n",
    "    for i in range(k):\n",
    "        pos = np.where(clusterLabel == i)[0]\n",
    "        filterY = yLabel[pos]\n",
    "        for j in range(labels):\n",
    "            pos = (np.where(filterY == j)[0])\n",
    "            clustercount[i,j] = len(pos)\n",
    "    return clustercount;"
   ]
  },
  {
   "cell_type": "code",
   "execution_count": 22,
   "metadata": {},
   "outputs": [],
   "source": [
    "def plotGraph(precision,recall,F1Score,k):\n",
    "    xaxis = [i for i in range(k)]\n",
    "    pt.figure(figsize=(9,7))\n",
    "    pt.grid()\n",
    "    pt.title(\"Prescision,Recall and F1Score graph\")\n",
    "    pt.plot(xaxis,precision,marker ='o',label= 'Precision')\n",
    "    pt.plot(xaxis,recall,marker ='o', label = 'Recall')\n",
    "    pt.plot(xaxis,F1Score,marker ='o',label = 'F1Score')\n",
    "    pt.xlabel(\"k\")\n",
    "    pt.ylabel(\"values\")\n",
    "    pt.legend()\n",
    "    pt.show()"
   ]
  },
  {
   "cell_type": "code",
   "execution_count": 23,
   "metadata": {
    "scrolled": false
   },
   "outputs": [],
   "source": [
    "def plotSSEScore(SSE):\n",
    "    pt.figure(figsize=(9,7))\n",
    "    pt.title(\"SSE vs iteration Graph\")\n",
    "    pt.grid()\n",
    "    pt.plot(SSE,marker = 'o',label = 'SSE')\n",
    "    pt.xlabel(\"iteration\")\n",
    "    pt.ylabel(\"SSE\")\n",
    "    pt.legend()\n",
    "    pt.show()"
   ]
  },
  {
   "cell_type": "code",
   "execution_count": 24,
   "metadata": {},
   "outputs": [],
   "source": [
    "def kMeans(maxk,maxiteration,distanceType):\n",
    "    precision = []\n",
    "    recall = []\n",
    "    F1Score = []\n",
    "    SSEAcrossK =[]\n",
    "    for k in range(1,maxk+1):\n",
    "        initialCentroid = selectCentroid(xData,k)\n",
    "        centroid = copy.deepcopy(initialCentroid)\n",
    "        #centroid = np.asarray([[4],[11]])\n",
    "        SSE = []\n",
    "        for i in range(maxiteration):\n",
    "            #print(i , \"iteration\")\n",
    "            distanceSSE = EquiledianDistance(centroid ,xData)\n",
    "            if distanceType == 1:\n",
    "                distance = EquiledianDistance(centroid ,xData)\n",
    "            elif distanceType == 2:\n",
    "                distance = ManhattenDistance(centroid ,xData)\n",
    "            else:\n",
    "                distance = CosineSimilarity(centroid ,xData)    \n",
    "            #clusterLabel,MinDistance = assignLabel(distance)\n",
    "            #rint(distance.T)\n",
    "            #print('SSE distance',distanceSSE.T)\n",
    "            clusterLabel = np.argmin(distance.T, axis=1)\n",
    "            MinDistance = np.min(distanceSSE.T, axis=1)\n",
    "            SSEFromMethod, SSEList = computeSSE(MinDistance,clusterLabel)\n",
    "            SSE.append(SSEFromMethod)\n",
    "            #print(\"SSE individual run\",SSEList)\n",
    "            centroid = newCentroid(xData,clusterLabel,k,SSEList,distanceType)\n",
    "\n",
    "        #actualPLabel = giveCorrectLabel(k,distance,clusterLabel,yLabel)\n",
    "        #print(classification_report(yLabel, actualPLabel))\n",
    "        #print(\"SSE For k\",SSE)\n",
    "        SSEAcrossK.append(SSE[-1])\n",
    "        ClusterLabelCount = getClusterLabelCount(4,k,yLabel,clusterLabel)\n",
    "        TPFP,TP,FN=calculateMeasure(ClusterLabelCount,k,4)\n",
    "        precisi = TP/TPFP\n",
    "        reca = TP/(TP+FN)\n",
    "        precision.append(precisi)\n",
    "        recall.append(reca)\n",
    "        #print(precisi,reca)\n",
    "        F1Score.append((2*precisi*reca)/(precisi+reca))\n",
    "    plotSSEScore(SSEAcrossK)\n",
    "    plotGraph(precision,recall,F1Score,k)"
   ]
  },
  {
   "cell_type": "code",
   "execution_count": 25,
   "metadata": {},
   "outputs": [],
   "source": [
    "def main():\n",
    "    print('Enter value of k')\n",
    "    k = int(input())\n",
    "    print('Enter value of iteration')\n",
    "    iteration = int(input())\n",
    "    print('Enter 1 for Euclidian distance , 2 for Manhatten distance,3 for cosine distance')\n",
    "    distance = int(input())\n",
    "    print(\"values for K meanse algorith are\",k,iteration,distance)\n",
    "    kMeans(k,iteration,distance)"
   ]
  },
  {
   "cell_type": "code",
   "execution_count": 1,
   "metadata": {
    "scrolled": false
   },
   "outputs": [
    {
     "ename": "NameError",
     "evalue": "name 'main' is not defined",
     "output_type": "error",
     "traceback": [
      "\u001b[1;31m---------------------------------------------------------------------------\u001b[0m",
      "\u001b[1;31mNameError\u001b[0m                                 Traceback (most recent call last)",
      "\u001b[1;32m<ipython-input-1-263240bbee7e>\u001b[0m in \u001b[0;36m<module>\u001b[1;34m\u001b[0m\n\u001b[1;32m----> 1\u001b[1;33m \u001b[0mmain\u001b[0m\u001b[1;33m(\u001b[0m\u001b[1;33m)\u001b[0m\u001b[1;33m\u001b[0m\u001b[1;33m\u001b[0m\u001b[0m\n\u001b[0m",
      "\u001b[1;31mNameError\u001b[0m: name 'main' is not defined"
     ]
    }
   ],
   "source": [
    "main()"
   ]
  },
  {
   "cell_type": "code",
   "execution_count": null,
   "metadata": {},
   "outputs": [],
   "source": []
  },
  {
   "cell_type": "code",
   "execution_count": null,
   "metadata": {},
   "outputs": [],
   "source": []
  },
  {
   "cell_type": "code",
   "execution_count": null,
   "metadata": {},
   "outputs": [],
   "source": []
  }
 ],
 "metadata": {
  "kernelspec": {
   "display_name": "Python 3",
   "language": "python",
   "name": "python3"
  },
  "language_info": {
   "codemirror_mode": {
    "name": "ipython",
    "version": 3
   },
   "file_extension": ".py",
   "mimetype": "text/x-python",
   "name": "python",
   "nbconvert_exporter": "python",
   "pygments_lexer": "ipython3",
   "version": "3.7.3"
  }
 },
 "nbformat": 4,
 "nbformat_minor": 2
}
